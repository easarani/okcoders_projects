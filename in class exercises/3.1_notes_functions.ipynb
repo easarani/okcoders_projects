{
 "cells": [
  {
   "cell_type": "code",
   "execution_count": 9,
   "metadata": {},
   "outputs": [],
   "source": [
    "# Function notes\n",
    "nums = [20, 25,30,35,40, 1093.508]"
   ]
  },
  {
   "cell_type": "code",
   "execution_count": 10,
   "metadata": {},
   "outputs": [
    {
     "data": {
      "text/plain": [
       "1243.508"
      ]
     },
     "execution_count": 10,
     "metadata": {},
     "output_type": "execute_result"
    }
   ],
   "source": [
    "total = 0\n",
    "for n in nums:\n",
    "    total += n\n",
    "    \n",
    "total"
   ]
  },
  {
   "cell_type": "code",
   "execution_count": 11,
   "metadata": {},
   "outputs": [
    {
     "data": {
      "text/plain": [
       "1243.508"
      ]
     },
     "execution_count": 11,
     "metadata": {},
     "output_type": "execute_result"
    }
   ],
   "source": [
    "sum(nums)"
   ]
  },
  {
   "cell_type": "code",
   "execution_count": 12,
   "metadata": {},
   "outputs": [],
   "source": [
    "def sum_okc(elements):\n",
    "    total = 0\n",
    "    for n in elements:\n",
    "        total += n\n",
    "    \n",
    "    return total"
   ]
  },
  {
   "cell_type": "code",
   "execution_count": 13,
   "metadata": {},
   "outputs": [],
   "source": [
    "total_val = sum_okc(nums)"
   ]
  },
  {
   "cell_type": "code",
   "execution_count": 14,
   "metadata": {},
   "outputs": [
    {
     "name": "stdout",
     "output_type": "stream",
     "text": [
      "1243.508\n"
     ]
    }
   ],
   "source": [
    "print(total_val)"
   ]
  },
  {
   "cell_type": "code",
   "execution_count": 20,
   "metadata": {},
   "outputs": [
    {
     "name": "stdout",
     "output_type": "stream",
     "text": [
      "42953.11516844445\n"
     ]
    }
   ],
   "source": [
    "def average_squared(elements):\n",
    "    n_elements = len(elements)\n",
    "    sum_elements = sum_okc(elements)\n",
    "    avg = sum_elements/n_elements\n",
    "    avg_sq = avg**2\n",
    "    return avg_sq\n",
    "    \n",
    "print(average_squared(nums))"
   ]
  },
  {
   "cell_type": "code",
   "execution_count": 25,
   "metadata": {},
   "outputs": [
    {
     "name": "stdout",
     "output_type": "stream",
     "text": [
      "7310.25\n"
     ]
    }
   ],
   "source": [
    "print(average_squared(range(66,106)))"
   ]
  },
  {
   "cell_type": "code",
   "execution_count": 31,
   "metadata": {},
   "outputs": [
    {
     "name": "stdout",
     "output_type": "stream",
     "text": [
      "2\n",
      "42953.11516844445\n",
      "4\n",
      "1844970102.673653\n"
     ]
    }
   ],
   "source": [
    "def average_power(elements, power):\n",
    "    print(power)\n",
    "    n_elements = len(elements)\n",
    "    sum_elements = sum_okc(elements)\n",
    "    avg = sum_elements/n_elements\n",
    "    avg_sq = avg**power\n",
    "    return avg_sq\n",
    "    \n",
    "print(average_power(nums,2))\n",
    "print(average_power(nums,4))"
   ]
  },
  {
   "cell_type": "code",
   "execution_count": null,
   "metadata": {},
   "outputs": [],
   "source": []
  }
 ],
 "metadata": {
  "kernelspec": {
   "display_name": "Python 3",
   "language": "python",
   "name": "python3"
  },
  "language_info": {
   "codemirror_mode": {
    "name": "ipython",
    "version": 3
   },
   "file_extension": ".py",
   "mimetype": "text/x-python",
   "name": "python",
   "nbconvert_exporter": "python",
   "pygments_lexer": "ipython3",
   "version": "3.7.3"
  }
 },
 "nbformat": 4,
 "nbformat_minor": 2
}
