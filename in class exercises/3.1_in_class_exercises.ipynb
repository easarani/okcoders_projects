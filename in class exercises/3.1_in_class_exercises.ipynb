{
 "cells": [
  {
   "cell_type": "markdown",
   "metadata": {},
   "source": [
    "### Colors List"
   ]
  },
  {
   "cell_type": "code",
   "execution_count": 1,
   "metadata": {},
   "outputs": [],
   "source": [
    "colors = [\"blue\", \"green\", \"blue\", \"red\", \"red\", \"orange\", None, \"red\", \"blue\"]"
   ]
  },
  {
   "cell_type": "code",
   "execution_count": 2,
   "metadata": {},
   "outputs": [
    {
     "data": {
      "text/plain": [
       "9"
      ]
     },
     "execution_count": 2,
     "metadata": {},
     "output_type": "execute_result"
    }
   ],
   "source": [
    "# How many total elements are there to the colors list?\n",
    "len(colors)"
   ]
  },
  {
   "cell_type": "code",
   "execution_count": 3,
   "metadata": {},
   "outputs": [
    {
     "data": {
      "text/plain": [
       "['blue', 'green', 'blue', 'red', 'red']"
      ]
     },
     "execution_count": 3,
     "metadata": {},
     "output_type": "execute_result"
    }
   ],
   "source": [
    "# Print to screen only the first 5 elements of the colors list\n",
    "colors[0:5]"
   ]
  },
  {
   "cell_type": "code",
   "execution_count": 4,
   "metadata": {},
   "outputs": [
    {
     "data": {
      "text/plain": [
       "['blue', 'red', 'red', 'orange', None, 'red']"
      ]
     },
     "execution_count": 4,
     "metadata": {},
     "output_type": "execute_result"
    }
   ],
   "source": [
    "# Print to screen the 2nd through the 7th element\n",
    "colors[2:8]"
   ]
  },
  {
   "cell_type": "code",
   "execution_count": 5,
   "metadata": {},
   "outputs": [
    {
     "data": {
      "text/plain": [
       "'blue'"
      ]
     },
     "execution_count": 5,
     "metadata": {},
     "output_type": "execute_result"
    }
   ],
   "source": [
    "# Print only the last element of the colors list\n",
    "colors[-1]"
   ]
  },
  {
   "cell_type": "markdown",
   "metadata": {},
   "source": [
    "### Numeric List"
   ]
  },
  {
   "cell_type": "code",
   "execution_count": 6,
   "metadata": {},
   "outputs": [],
   "source": [
    "data = [17.2, 31.8, 20.6, 77.9, 5.0, -11.34, 40.62]"
   ]
  },
  {
   "cell_type": "code",
   "execution_count": 7,
   "metadata": {},
   "outputs": [
    {
     "data": {
      "text/plain": [
       "181.78"
      ]
     },
     "execution_count": 7,
     "metadata": {},
     "output_type": "execute_result"
    }
   ],
   "source": [
    "# What is the sum of the values in the data list?\n",
    "sum(data)"
   ]
  },
  {
   "cell_type": "code",
   "execution_count": 8,
   "metadata": {},
   "outputs": [
    {
     "data": {
      "text/plain": [
       "True"
      ]
     },
     "execution_count": 8,
     "metadata": {},
     "output_type": "execute_result"
    }
   ],
   "source": [
    "# Test whether the number 5.0 is in the data?\n",
    "5.0 in data"
   ]
  },
  {
   "cell_type": "code",
   "execution_count": 9,
   "metadata": {},
   "outputs": [
    {
     "data": {
      "text/plain": [
       "40.62"
      ]
     },
     "execution_count": 9,
     "metadata": {},
     "output_type": "execute_result"
    }
   ],
   "source": [
    "# Calculate the maximum value of the last 3 elements\n",
    "max(data[-3:])"
   ]
  },
  {
   "cell_type": "code",
   "execution_count": 10,
   "metadata": {},
   "outputs": [
    {
     "data": {
      "text/plain": [
       "[31.8, 20.6, 77.9, 5.0, -11.34]"
      ]
     },
     "execution_count": 10,
     "metadata": {},
     "output_type": "execute_result"
    }
   ],
   "source": [
    "# Show all the values except the first and last ones\n",
    "data[1:-1]"
   ]
  },
  {
   "cell_type": "markdown",
   "metadata": {},
   "source": [
    "### Dicts"
   ]
  },
  {
   "cell_type": "code",
   "execution_count": 11,
   "metadata": {},
   "outputs": [
    {
     "name": "stdout",
     "output_type": "stream",
     "text": [
      "{'name': 'Eric', 'age': 26, 'hobbies': ['soccer', 'reading', 'concerts'], 'sum': 141.16}\n"
     ]
    }
   ],
   "source": [
    "# Create a dictionary that shows your name as a string, age as an integer, your 2-4 favorite hobbies as a\n",
    "# list of strings, and the sum of the first 6 elements of the data list as a float. Name the dict \"you\".\n",
    "you = {\n",
    "    \"name\" : \"Eric\",\n",
    "    \"age\" : 26,\n",
    "    \"hobbies\": [\"soccer\", \"reading\",\"concerts\"],\n",
    "    \"sum\" : sum(data[0:6])  \n",
    "}\n",
    "\n",
    "print(you)"
   ]
  },
  {
   "cell_type": "code",
   "execution_count": 12,
   "metadata": {},
   "outputs": [
    {
     "data": {
      "text/plain": [
       "['reading', 'concerts']"
      ]
     },
     "execution_count": 12,
     "metadata": {},
     "output_type": "execute_result"
    }
   ],
   "source": [
    "# Print only your last 2 hobbies.\n",
    "you[\"hobbies\"][-2:]"
   ]
  },
  {
   "cell_type": "code",
   "execution_count": 13,
   "metadata": {},
   "outputs": [
    {
     "data": {
      "text/plain": [
       "False"
      ]
     },
     "execution_count": 13,
     "metadata": {},
     "output_type": "execute_result"
    }
   ],
   "source": [
    "# Print whether \"address\" appears as one of the keys in your dict.\n",
    "\"address\" in you"
   ]
  },
  {
   "cell_type": "markdown",
   "metadata": {},
   "source": [
    "### Control Flow & Loops"
   ]
  },
  {
   "cell_type": "code",
   "execution_count": 14,
   "metadata": {},
   "outputs": [
    {
     "name": "stdout",
     "output_type": "stream",
     "text": [
      "blue I feel blue\n",
      "green things are great\n",
      "blue I feel blue\n",
      "red things are great\n",
      "red things are great\n",
      "orange things are great\n",
      "None things are great\n",
      "red things are great\n",
      "blue I feel blue\n"
     ]
    }
   ],
   "source": [
    "# Go through the colors and anytime the color is blue, print \"I feel blue\" to the screen, otherwise\n",
    "# print \"things are great\" to the screen\n",
    "for i in colors:\n",
    "    if (i == \"blue\"):\n",
    "        print(i, \"I feel blue\")\n",
    "    else:\n",
    "        print(i, \"things are great\")\n"
   ]
  },
  {
   "cell_type": "code",
   "execution_count": 15,
   "metadata": {},
   "outputs": [
    {
     "name": "stdout",
     "output_type": "stream",
     "text": [
      "170.92000000000002\n"
     ]
    }
   ],
   "source": [
    "# Go through each value in the numeric data, and add up all values larger than 20.\n",
    "num20 = 0\n",
    "for i in data:\n",
    "    if (i > 20):\n",
    "        num20+=i\n",
    "\n",
    "print(num20)"
   ]
  },
  {
   "cell_type": "code",
   "execution_count": 16,
   "metadata": {},
   "outputs": [
    {
     "name": "stdout",
     "output_type": "stream",
     "text": [
      "1\n",
      "2\n",
      "Fizz\n",
      "4\n",
      "Buzz\n",
      "Fizz\n",
      "7\n",
      "8\n",
      "Fizz\n",
      "Buzz\n",
      "11\n",
      "Fizz\n",
      "13\n",
      "14\n",
      "FizzBuzz\n",
      "16\n",
      "17\n",
      "Fizz\n",
      "19\n",
      "Buzz\n",
      "Fizz\n",
      "22\n",
      "23\n",
      "Fizz\n",
      "Buzz\n"
     ]
    }
   ],
   "source": [
    "# Count from 1 to 25, but anytime a value is evenly divisible by 3 print \"Fizz\", anytime a value is\n",
    "# evenly divisible by 5 print \"Buzz\", and anytime a value is evenly divisble by 3 & 5 print \"FizzBuzz\".\n",
    "# HINT: https://stackoverflow.com/questions/4432208/what-is-the-result-of-in-python\n",
    "\n",
    "for i in range(1,26):\n",
    "    if (i%3==0):\n",
    "        if (i%5==0):\n",
    "            print(\"FizzBuzz\")\n",
    "        else: \n",
    "            print(\"Fizz\")\n",
    "    elif (i%5==0):\n",
    "        print(\"Buzz\")\n",
    "    else:\n",
    "        print(i)\n",
    "        "
   ]
  },
  {
   "cell_type": "code",
   "execution_count": 17,
   "metadata": {},
   "outputs": [
    {
     "name": "stdout",
     "output_type": "stream",
     "text": [
      "1093\n",
      "1094\n",
      "FizzBuzz\n",
      "1096\n",
      "1097\n",
      "Fizz\n",
      "1099\n",
      "Buzz\n",
      "Fizz\n",
      "1102\n",
      "1103\n",
      "Fizz\n",
      "Buzz\n",
      "1106\n",
      "Fizz\n",
      "1108\n",
      "1109\n",
      "FizzBuzz\n",
      "1111\n",
      "1112\n",
      "Fizz\n",
      "1114\n",
      "Buzz\n",
      "Fizz\n",
      "1117\n",
      "1118\n",
      "Fizz\n",
      "Buzz\n",
      "1121\n",
      "Fizz\n",
      "1123\n",
      "1124\n",
      "FizzBuzz\n",
      "1126\n",
      "1127\n",
      "Fizz\n",
      "1129\n",
      "Buzz\n",
      "Fizz\n",
      "1132\n",
      "1133\n",
      "Fizz\n",
      "Buzz\n",
      "1136\n",
      "Fizz\n",
      "1138\n",
      "1139\n",
      "FizzBuzz\n",
      "None\n"
     ]
    }
   ],
   "source": [
    "# Build on your previous code by making it a function that takes in a starting and ending number. Test it by\n",
    "# running it on two sets of numbers, one of which must start higher than 1000.\n",
    "def fizbuz(start, ending):\n",
    "    for i in range(start,ending+1):\n",
    "        if (i%3==0):\n",
    "            if (i%5==0):\n",
    "                print(\"FizzBuzz\")\n",
    "            else: \n",
    "                print(\"Fizz\")\n",
    "        elif (i%5==0):\n",
    "            print(\"Buzz\")\n",
    "        else:\n",
    "            print(i)\n",
    "    \n",
    "\n",
    "print(fizbuz(1093,1140))"
   ]
  },
  {
   "cell_type": "code",
   "execution_count": 18,
   "metadata": {},
   "outputs": [
    {
     "data": {
      "text/plain": [
       "120"
      ]
     },
     "execution_count": 18,
     "metadata": {},
     "output_type": "execute_result"
    }
   ],
   "source": [
    "# Make another version of this function that takes only a single number, and then runs until it finds the first\n",
    "# FizzBuzz and then stops. It should return the value of the first one found.\n",
    "def first_fizbuzz(start):\n",
    "    fizz = False\n",
    "    while not fizz:\n",
    "        if (start%3==0) and (start%5==0):\n",
    "            return start\n",
    "        else:\n",
    "            start+=1\n",
    "        \n",
    "first_fizbuzz(107)"
   ]
  },
  {
   "cell_type": "code",
   "execution_count": 4,
   "metadata": {},
   "outputs": [
    {
     "data": {
      "text/plain": [
       "12252240"
      ]
     },
     "execution_count": 4,
     "metadata": {},
     "output_type": "execute_result"
    }
   ],
   "source": [
    "# Project Euler Problem 5: https://www.projecteuler.net/problem=5 (modified)\n",
    "# 2520 is the smallest number that can be divided by each of the numbers from 1 to 10 without any remainder.\n",
    "# What is the smallest positive number that is evenly divisible by all of the numbers from 1 to 17?\n",
    "\n",
    "def euler(num, start, end):\n",
    "    for i in range(start, end+1):\n",
    "        if not (num % i ==0):\n",
    "            return False\n",
    "    \n",
    "    return True\n",
    "\n",
    "\n",
    "def search(start,end):\n",
    "    i = 1\n",
    "    while not euler(i, start, end):\n",
    "        i+=1\n",
    "    return i\n",
    "\n",
    "\n",
    "#euler(2520,1,10)\n",
    "search(1,17)"
   ]
  },
  {
   "cell_type": "code",
   "execution_count": null,
   "metadata": {},
   "outputs": [],
   "source": []
  }
 ],
 "metadata": {
  "kernelspec": {
   "display_name": "Python 3",
   "language": "python",
   "name": "python3"
  },
  "language_info": {
   "codemirror_mode": {
    "name": "ipython",
    "version": 3
   },
   "file_extension": ".py",
   "mimetype": "text/x-python",
   "name": "python",
   "nbconvert_exporter": "python",
   "pygments_lexer": "ipython3",
   "version": "3.7.3"
  }
 },
 "nbformat": 4,
 "nbformat_minor": 2
}
