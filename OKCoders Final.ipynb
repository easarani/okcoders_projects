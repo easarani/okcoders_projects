{
 "cells": [
  {
   "cell_type": "markdown",
   "metadata": {},
   "source": [
    "### OKCoders: Data Analytics Final Project\n",
    "#### *How Much Does a Strikeout Cost?*\n",
    "\n",
    "---"
   ]
  },
  {
   "cell_type": "markdown",
   "metadata": {},
   "source": [
    "#### Background Information\n",
    "\n",
    "Prompt - use the Lahman database (2016 edition) to determine how much a strikeout costs. Analysis was restricted to every pitcher for every team from 2007-2016 who have played at least 10 games. After determining the cost per strikeout for each team-year combination, analyze a few factors and build a regression model that would help determine a attributes to look for in fielding a pitching staff. The few candidate elements analyzed were:\n",
    "+ **weighted average career age of the pitching bullpen**\n",
    "+ **weighted average age of the pitching bullpen**\n",
    "+ **probability of a walk for a given at bat for that team.** \n",
    "\n",
    "Analysis article below:\n",
    "\n",
    "---"
   ]
  },
  {
   "cell_type": "markdown",
   "metadata": {},
   "source": [
    "Import needed libraries and do a quick look at the 4 main tables used for extracting data and performing analysis - *Master*, *Pitching*, *Teams* and *Salaries*."
   ]
  },
  {
   "cell_type": "code",
   "execution_count": 1,
   "metadata": {},
   "outputs": [],
   "source": [
    "import pandas as pd\n",
    "import sqlite3\n",
    "from sklearn.linear_model import LinearRegression"
   ]
  },
  {
   "cell_type": "code",
   "execution_count": 2,
   "metadata": {},
   "outputs": [],
   "source": [
    "lah_db = sqlite3.connect(\"lahman2016.db\") #lahman2016 data strectches from 2007-2016"
   ]
  },
  {
   "cell_type": "code",
   "execution_count": 3,
   "metadata": {},
   "outputs": [],
   "source": [
    "master = pd.read_sql(\"SELECT * FROM Master\", con = lah_db) #pulls in tables from SQL\n",
    "pitching = pd.read_sql(\"SELECT * FROM Pitching\", con = lah_db)\n",
    "teams = pd.read_sql(\"SELECT * FROM Teams\", con = lah_db)\n",
    "salaries = pd.read_sql(\"SELECT * FROM Salaries\", con = lah_db)"
   ]
  },
  {
   "cell_type": "code",
   "execution_count": 4,
   "metadata": {},
   "outputs": [
    {
     "data": {
      "text/html": [
       "<div>\n",
       "<style scoped>\n",
       "    .dataframe tbody tr th:only-of-type {\n",
       "        vertical-align: middle;\n",
       "    }\n",
       "\n",
       "    .dataframe tbody tr th {\n",
       "        vertical-align: top;\n",
       "    }\n",
       "\n",
       "    .dataframe thead th {\n",
       "        text-align: right;\n",
       "    }\n",
       "</style>\n",
       "<table border=\"1\" class=\"dataframe\">\n",
       "  <thead>\n",
       "    <tr style=\"text-align: right;\">\n",
       "      <th></th>\n",
       "      <th>playerID</th>\n",
       "      <th>birthYear</th>\n",
       "      <th>birthMonth</th>\n",
       "      <th>birthDay</th>\n",
       "      <th>birthCountry</th>\n",
       "      <th>birthState</th>\n",
       "      <th>birthCity</th>\n",
       "      <th>deathYear</th>\n",
       "      <th>deathMonth</th>\n",
       "      <th>deathDay</th>\n",
       "      <th>...</th>\n",
       "      <th>nameLast</th>\n",
       "      <th>nameGiven</th>\n",
       "      <th>weight</th>\n",
       "      <th>height</th>\n",
       "      <th>bats</th>\n",
       "      <th>throws</th>\n",
       "      <th>debut</th>\n",
       "      <th>finalGame</th>\n",
       "      <th>retroID</th>\n",
       "      <th>bbrefID</th>\n",
       "    </tr>\n",
       "  </thead>\n",
       "  <tbody>\n",
       "    <tr>\n",
       "      <th>0</th>\n",
       "      <td>aardsda01</td>\n",
       "      <td>1981.0</td>\n",
       "      <td>12.0</td>\n",
       "      <td>27.0</td>\n",
       "      <td>USA</td>\n",
       "      <td>CO</td>\n",
       "      <td>Denver</td>\n",
       "      <td>NaN</td>\n",
       "      <td>NaN</td>\n",
       "      <td>NaN</td>\n",
       "      <td>...</td>\n",
       "      <td>Aardsma</td>\n",
       "      <td>David Allan</td>\n",
       "      <td>215.0</td>\n",
       "      <td>75.0</td>\n",
       "      <td>R</td>\n",
       "      <td>R</td>\n",
       "      <td>2004-04-06</td>\n",
       "      <td>2015-08-23</td>\n",
       "      <td>aardd001</td>\n",
       "      <td>aardsda01</td>\n",
       "    </tr>\n",
       "    <tr>\n",
       "      <th>1</th>\n",
       "      <td>aaronha01</td>\n",
       "      <td>1934.0</td>\n",
       "      <td>2.0</td>\n",
       "      <td>5.0</td>\n",
       "      <td>USA</td>\n",
       "      <td>AL</td>\n",
       "      <td>Mobile</td>\n",
       "      <td>NaN</td>\n",
       "      <td>NaN</td>\n",
       "      <td>NaN</td>\n",
       "      <td>...</td>\n",
       "      <td>Aaron</td>\n",
       "      <td>Henry Louis</td>\n",
       "      <td>180.0</td>\n",
       "      <td>72.0</td>\n",
       "      <td>R</td>\n",
       "      <td>R</td>\n",
       "      <td>1954-04-13</td>\n",
       "      <td>1976-10-03</td>\n",
       "      <td>aaroh101</td>\n",
       "      <td>aaronha01</td>\n",
       "    </tr>\n",
       "    <tr>\n",
       "      <th>2</th>\n",
       "      <td>aaronto01</td>\n",
       "      <td>1939.0</td>\n",
       "      <td>8.0</td>\n",
       "      <td>5.0</td>\n",
       "      <td>USA</td>\n",
       "      <td>AL</td>\n",
       "      <td>Mobile</td>\n",
       "      <td>1984.0</td>\n",
       "      <td>8.0</td>\n",
       "      <td>16.0</td>\n",
       "      <td>...</td>\n",
       "      <td>Aaron</td>\n",
       "      <td>Tommie Lee</td>\n",
       "      <td>190.0</td>\n",
       "      <td>75.0</td>\n",
       "      <td>R</td>\n",
       "      <td>R</td>\n",
       "      <td>1962-04-10</td>\n",
       "      <td>1971-09-26</td>\n",
       "      <td>aarot101</td>\n",
       "      <td>aaronto01</td>\n",
       "    </tr>\n",
       "    <tr>\n",
       "      <th>3</th>\n",
       "      <td>aasedo01</td>\n",
       "      <td>1954.0</td>\n",
       "      <td>9.0</td>\n",
       "      <td>8.0</td>\n",
       "      <td>USA</td>\n",
       "      <td>CA</td>\n",
       "      <td>Orange</td>\n",
       "      <td>NaN</td>\n",
       "      <td>NaN</td>\n",
       "      <td>NaN</td>\n",
       "      <td>...</td>\n",
       "      <td>Aase</td>\n",
       "      <td>Donald William</td>\n",
       "      <td>190.0</td>\n",
       "      <td>75.0</td>\n",
       "      <td>R</td>\n",
       "      <td>R</td>\n",
       "      <td>1977-07-26</td>\n",
       "      <td>1990-10-03</td>\n",
       "      <td>aased001</td>\n",
       "      <td>aasedo01</td>\n",
       "    </tr>\n",
       "    <tr>\n",
       "      <th>4</th>\n",
       "      <td>abadan01</td>\n",
       "      <td>1972.0</td>\n",
       "      <td>8.0</td>\n",
       "      <td>25.0</td>\n",
       "      <td>USA</td>\n",
       "      <td>FL</td>\n",
       "      <td>Palm Beach</td>\n",
       "      <td>NaN</td>\n",
       "      <td>NaN</td>\n",
       "      <td>NaN</td>\n",
       "      <td>...</td>\n",
       "      <td>Abad</td>\n",
       "      <td>Fausto Andres</td>\n",
       "      <td>184.0</td>\n",
       "      <td>73.0</td>\n",
       "      <td>L</td>\n",
       "      <td>L</td>\n",
       "      <td>2001-09-10</td>\n",
       "      <td>2006-04-13</td>\n",
       "      <td>abada001</td>\n",
       "      <td>abadan01</td>\n",
       "    </tr>\n",
       "  </tbody>\n",
       "</table>\n",
       "<p>5 rows × 24 columns</p>\n",
       "</div>"
      ],
      "text/plain": [
       "    playerID  birthYear  birthMonth  birthDay birthCountry birthState  \\\n",
       "0  aardsda01     1981.0        12.0      27.0          USA         CO   \n",
       "1  aaronha01     1934.0         2.0       5.0          USA         AL   \n",
       "2  aaronto01     1939.0         8.0       5.0          USA         AL   \n",
       "3   aasedo01     1954.0         9.0       8.0          USA         CA   \n",
       "4   abadan01     1972.0         8.0      25.0          USA         FL   \n",
       "\n",
       "    birthCity  deathYear  deathMonth  deathDay  ... nameLast       nameGiven  \\\n",
       "0      Denver        NaN         NaN       NaN  ...  Aardsma     David Allan   \n",
       "1      Mobile        NaN         NaN       NaN  ...    Aaron     Henry Louis   \n",
       "2      Mobile     1984.0         8.0      16.0  ...    Aaron      Tommie Lee   \n",
       "3      Orange        NaN         NaN       NaN  ...     Aase  Donald William   \n",
       "4  Palm Beach        NaN         NaN       NaN  ...     Abad   Fausto Andres   \n",
       "\n",
       "  weight height bats throws       debut   finalGame   retroID    bbrefID  \n",
       "0  215.0   75.0    R      R  2004-04-06  2015-08-23  aardd001  aardsda01  \n",
       "1  180.0   72.0    R      R  1954-04-13  1976-10-03  aaroh101  aaronha01  \n",
       "2  190.0   75.0    R      R  1962-04-10  1971-09-26  aarot101  aaronto01  \n",
       "3  190.0   75.0    R      R  1977-07-26  1990-10-03  aased001   aasedo01  \n",
       "4  184.0   73.0    L      L  2001-09-10  2006-04-13  abada001   abadan01  \n",
       "\n",
       "[5 rows x 24 columns]"
      ]
     },
     "execution_count": 4,
     "metadata": {},
     "output_type": "execute_result"
    }
   ],
   "source": [
    "master.head() #looks at the top 5 rows"
   ]
  },
  {
   "cell_type": "code",
   "execution_count": 5,
   "metadata": {},
   "outputs": [
    {
     "data": {
      "text/html": [
       "<div>\n",
       "<style scoped>\n",
       "    .dataframe tbody tr th:only-of-type {\n",
       "        vertical-align: middle;\n",
       "    }\n",
       "\n",
       "    .dataframe tbody tr th {\n",
       "        vertical-align: top;\n",
       "    }\n",
       "\n",
       "    .dataframe thead th {\n",
       "        text-align: right;\n",
       "    }\n",
       "</style>\n",
       "<table border=\"1\" class=\"dataframe\">\n",
       "  <thead>\n",
       "    <tr style=\"text-align: right;\">\n",
       "      <th></th>\n",
       "      <th>playerID</th>\n",
       "      <th>yearID</th>\n",
       "      <th>stint</th>\n",
       "      <th>teamID</th>\n",
       "      <th>lgID</th>\n",
       "      <th>W</th>\n",
       "      <th>L</th>\n",
       "      <th>G</th>\n",
       "      <th>GS</th>\n",
       "      <th>CG</th>\n",
       "      <th>...</th>\n",
       "      <th>IBB</th>\n",
       "      <th>WP</th>\n",
       "      <th>HBP</th>\n",
       "      <th>BK</th>\n",
       "      <th>BFP</th>\n",
       "      <th>GF</th>\n",
       "      <th>R</th>\n",
       "      <th>SH</th>\n",
       "      <th>SF</th>\n",
       "      <th>GIDP</th>\n",
       "    </tr>\n",
       "  </thead>\n",
       "  <tbody>\n",
       "    <tr>\n",
       "      <th>0</th>\n",
       "      <td>aardsda01</td>\n",
       "      <td>2004</td>\n",
       "      <td>1</td>\n",
       "      <td>SFN</td>\n",
       "      <td>NL</td>\n",
       "      <td>1</td>\n",
       "      <td>0</td>\n",
       "      <td>11</td>\n",
       "      <td>0</td>\n",
       "      <td>0</td>\n",
       "      <td>...</td>\n",
       "      <td>0.0</td>\n",
       "      <td>0.0</td>\n",
       "      <td>2.0</td>\n",
       "      <td>0</td>\n",
       "      <td>61.0</td>\n",
       "      <td>5.0</td>\n",
       "      <td>8</td>\n",
       "      <td>0.0</td>\n",
       "      <td>1.0</td>\n",
       "      <td>1.0</td>\n",
       "    </tr>\n",
       "    <tr>\n",
       "      <th>1</th>\n",
       "      <td>aardsda01</td>\n",
       "      <td>2006</td>\n",
       "      <td>1</td>\n",
       "      <td>CHN</td>\n",
       "      <td>NL</td>\n",
       "      <td>3</td>\n",
       "      <td>0</td>\n",
       "      <td>45</td>\n",
       "      <td>0</td>\n",
       "      <td>0</td>\n",
       "      <td>...</td>\n",
       "      <td>0.0</td>\n",
       "      <td>1.0</td>\n",
       "      <td>1.0</td>\n",
       "      <td>0</td>\n",
       "      <td>225.0</td>\n",
       "      <td>9.0</td>\n",
       "      <td>25</td>\n",
       "      <td>1.0</td>\n",
       "      <td>3.0</td>\n",
       "      <td>2.0</td>\n",
       "    </tr>\n",
       "    <tr>\n",
       "      <th>2</th>\n",
       "      <td>aardsda01</td>\n",
       "      <td>2007</td>\n",
       "      <td>1</td>\n",
       "      <td>CHA</td>\n",
       "      <td>AL</td>\n",
       "      <td>2</td>\n",
       "      <td>1</td>\n",
       "      <td>25</td>\n",
       "      <td>0</td>\n",
       "      <td>0</td>\n",
       "      <td>...</td>\n",
       "      <td>3.0</td>\n",
       "      <td>2.0</td>\n",
       "      <td>1.0</td>\n",
       "      <td>0</td>\n",
       "      <td>151.0</td>\n",
       "      <td>7.0</td>\n",
       "      <td>24</td>\n",
       "      <td>2.0</td>\n",
       "      <td>1.0</td>\n",
       "      <td>1.0</td>\n",
       "    </tr>\n",
       "    <tr>\n",
       "      <th>3</th>\n",
       "      <td>aardsda01</td>\n",
       "      <td>2008</td>\n",
       "      <td>1</td>\n",
       "      <td>BOS</td>\n",
       "      <td>AL</td>\n",
       "      <td>4</td>\n",
       "      <td>2</td>\n",
       "      <td>47</td>\n",
       "      <td>0</td>\n",
       "      <td>0</td>\n",
       "      <td>...</td>\n",
       "      <td>2.0</td>\n",
       "      <td>3.0</td>\n",
       "      <td>5.0</td>\n",
       "      <td>0</td>\n",
       "      <td>228.0</td>\n",
       "      <td>7.0</td>\n",
       "      <td>32</td>\n",
       "      <td>3.0</td>\n",
       "      <td>2.0</td>\n",
       "      <td>4.0</td>\n",
       "    </tr>\n",
       "    <tr>\n",
       "      <th>4</th>\n",
       "      <td>aardsda01</td>\n",
       "      <td>2009</td>\n",
       "      <td>1</td>\n",
       "      <td>SEA</td>\n",
       "      <td>AL</td>\n",
       "      <td>3</td>\n",
       "      <td>6</td>\n",
       "      <td>73</td>\n",
       "      <td>0</td>\n",
       "      <td>0</td>\n",
       "      <td>...</td>\n",
       "      <td>3.0</td>\n",
       "      <td>2.0</td>\n",
       "      <td>0.0</td>\n",
       "      <td>0</td>\n",
       "      <td>296.0</td>\n",
       "      <td>53.0</td>\n",
       "      <td>23</td>\n",
       "      <td>2.0</td>\n",
       "      <td>1.0</td>\n",
       "      <td>2.0</td>\n",
       "    </tr>\n",
       "  </tbody>\n",
       "</table>\n",
       "<p>5 rows × 30 columns</p>\n",
       "</div>"
      ],
      "text/plain": [
       "    playerID  yearID  stint teamID lgID  W  L   G  GS  CG  ...  IBB   WP  HBP  \\\n",
       "0  aardsda01    2004      1    SFN   NL  1  0  11   0   0  ...  0.0  0.0  2.0   \n",
       "1  aardsda01    2006      1    CHN   NL  3  0  45   0   0  ...  0.0  1.0  1.0   \n",
       "2  aardsda01    2007      1    CHA   AL  2  1  25   0   0  ...  3.0  2.0  1.0   \n",
       "3  aardsda01    2008      1    BOS   AL  4  2  47   0   0  ...  2.0  3.0  5.0   \n",
       "4  aardsda01    2009      1    SEA   AL  3  6  73   0   0  ...  3.0  2.0  0.0   \n",
       "\n",
       "   BK    BFP    GF   R   SH   SF  GIDP  \n",
       "0   0   61.0   5.0   8  0.0  1.0   1.0  \n",
       "1   0  225.0   9.0  25  1.0  3.0   2.0  \n",
       "2   0  151.0   7.0  24  2.0  1.0   1.0  \n",
       "3   0  228.0   7.0  32  3.0  2.0   4.0  \n",
       "4   0  296.0  53.0  23  2.0  1.0   2.0  \n",
       "\n",
       "[5 rows x 30 columns]"
      ]
     },
     "execution_count": 5,
     "metadata": {},
     "output_type": "execute_result"
    }
   ],
   "source": [
    "pitching.head()"
   ]
  },
  {
   "cell_type": "code",
   "execution_count": 6,
   "metadata": {},
   "outputs": [
    {
     "data": {
      "text/html": [
       "<div>\n",
       "<style scoped>\n",
       "    .dataframe tbody tr th:only-of-type {\n",
       "        vertical-align: middle;\n",
       "    }\n",
       "\n",
       "    .dataframe tbody tr th {\n",
       "        vertical-align: top;\n",
       "    }\n",
       "\n",
       "    .dataframe thead th {\n",
       "        text-align: right;\n",
       "    }\n",
       "</style>\n",
       "<table border=\"1\" class=\"dataframe\">\n",
       "  <thead>\n",
       "    <tr style=\"text-align: right;\">\n",
       "      <th></th>\n",
       "      <th>yearID</th>\n",
       "      <th>lgID</th>\n",
       "      <th>teamID</th>\n",
       "      <th>franchID</th>\n",
       "      <th>divID</th>\n",
       "      <th>Rank</th>\n",
       "      <th>G</th>\n",
       "      <th>Ghome</th>\n",
       "      <th>W</th>\n",
       "      <th>L</th>\n",
       "      <th>...</th>\n",
       "      <th>DP</th>\n",
       "      <th>FP</th>\n",
       "      <th>name</th>\n",
       "      <th>park</th>\n",
       "      <th>attendance</th>\n",
       "      <th>BPF</th>\n",
       "      <th>PPF</th>\n",
       "      <th>teamIDBR</th>\n",
       "      <th>teamIDlahman45</th>\n",
       "      <th>teamIDretro</th>\n",
       "    </tr>\n",
       "  </thead>\n",
       "  <tbody>\n",
       "    <tr>\n",
       "      <th>0</th>\n",
       "      <td>1871</td>\n",
       "      <td>NA</td>\n",
       "      <td>BS1</td>\n",
       "      <td>BNA</td>\n",
       "      <td>None</td>\n",
       "      <td>3</td>\n",
       "      <td>31</td>\n",
       "      <td>NaN</td>\n",
       "      <td>20</td>\n",
       "      <td>10</td>\n",
       "      <td>...</td>\n",
       "      <td>NaN</td>\n",
       "      <td>0.838</td>\n",
       "      <td>Boston Red Stockings</td>\n",
       "      <td>South End Grounds I</td>\n",
       "      <td>NaN</td>\n",
       "      <td>103</td>\n",
       "      <td>98</td>\n",
       "      <td>BOS</td>\n",
       "      <td>BS1</td>\n",
       "      <td>BS1</td>\n",
       "    </tr>\n",
       "    <tr>\n",
       "      <th>1</th>\n",
       "      <td>1871</td>\n",
       "      <td>NA</td>\n",
       "      <td>CH1</td>\n",
       "      <td>CNA</td>\n",
       "      <td>None</td>\n",
       "      <td>2</td>\n",
       "      <td>28</td>\n",
       "      <td>NaN</td>\n",
       "      <td>19</td>\n",
       "      <td>9</td>\n",
       "      <td>...</td>\n",
       "      <td>NaN</td>\n",
       "      <td>0.829</td>\n",
       "      <td>Chicago White Stockings</td>\n",
       "      <td>Union Base-Ball Grounds</td>\n",
       "      <td>NaN</td>\n",
       "      <td>104</td>\n",
       "      <td>102</td>\n",
       "      <td>CHI</td>\n",
       "      <td>CH1</td>\n",
       "      <td>CH1</td>\n",
       "    </tr>\n",
       "    <tr>\n",
       "      <th>2</th>\n",
       "      <td>1871</td>\n",
       "      <td>NA</td>\n",
       "      <td>CL1</td>\n",
       "      <td>CFC</td>\n",
       "      <td>None</td>\n",
       "      <td>8</td>\n",
       "      <td>29</td>\n",
       "      <td>NaN</td>\n",
       "      <td>10</td>\n",
       "      <td>19</td>\n",
       "      <td>...</td>\n",
       "      <td>NaN</td>\n",
       "      <td>0.814</td>\n",
       "      <td>Cleveland Forest Citys</td>\n",
       "      <td>National Association Grounds</td>\n",
       "      <td>NaN</td>\n",
       "      <td>96</td>\n",
       "      <td>100</td>\n",
       "      <td>CLE</td>\n",
       "      <td>CL1</td>\n",
       "      <td>CL1</td>\n",
       "    </tr>\n",
       "    <tr>\n",
       "      <th>3</th>\n",
       "      <td>1871</td>\n",
       "      <td>NA</td>\n",
       "      <td>FW1</td>\n",
       "      <td>KEK</td>\n",
       "      <td>None</td>\n",
       "      <td>7</td>\n",
       "      <td>19</td>\n",
       "      <td>NaN</td>\n",
       "      <td>7</td>\n",
       "      <td>12</td>\n",
       "      <td>...</td>\n",
       "      <td>NaN</td>\n",
       "      <td>0.803</td>\n",
       "      <td>Fort Wayne Kekiongas</td>\n",
       "      <td>Hamilton Field</td>\n",
       "      <td>NaN</td>\n",
       "      <td>101</td>\n",
       "      <td>107</td>\n",
       "      <td>KEK</td>\n",
       "      <td>FW1</td>\n",
       "      <td>FW1</td>\n",
       "    </tr>\n",
       "    <tr>\n",
       "      <th>4</th>\n",
       "      <td>1871</td>\n",
       "      <td>NA</td>\n",
       "      <td>NY2</td>\n",
       "      <td>NNA</td>\n",
       "      <td>None</td>\n",
       "      <td>5</td>\n",
       "      <td>33</td>\n",
       "      <td>NaN</td>\n",
       "      <td>16</td>\n",
       "      <td>17</td>\n",
       "      <td>...</td>\n",
       "      <td>NaN</td>\n",
       "      <td>0.839</td>\n",
       "      <td>New York Mutuals</td>\n",
       "      <td>Union Grounds (Brooklyn)</td>\n",
       "      <td>NaN</td>\n",
       "      <td>90</td>\n",
       "      <td>88</td>\n",
       "      <td>NYU</td>\n",
       "      <td>NY2</td>\n",
       "      <td>NY2</td>\n",
       "    </tr>\n",
       "  </tbody>\n",
       "</table>\n",
       "<p>5 rows × 48 columns</p>\n",
       "</div>"
      ],
      "text/plain": [
       "   yearID lgID teamID franchID divID  Rank   G  Ghome   W   L  ...  DP     FP  \\\n",
       "0    1871   NA    BS1      BNA  None     3  31    NaN  20  10  ... NaN  0.838   \n",
       "1    1871   NA    CH1      CNA  None     2  28    NaN  19   9  ... NaN  0.829   \n",
       "2    1871   NA    CL1      CFC  None     8  29    NaN  10  19  ... NaN  0.814   \n",
       "3    1871   NA    FW1      KEK  None     7  19    NaN   7  12  ... NaN  0.803   \n",
       "4    1871   NA    NY2      NNA  None     5  33    NaN  16  17  ... NaN  0.839   \n",
       "\n",
       "                      name                          park  attendance  BPF  \\\n",
       "0     Boston Red Stockings           South End Grounds I         NaN  103   \n",
       "1  Chicago White Stockings       Union Base-Ball Grounds         NaN  104   \n",
       "2   Cleveland Forest Citys  National Association Grounds         NaN   96   \n",
       "3     Fort Wayne Kekiongas                Hamilton Field         NaN  101   \n",
       "4         New York Mutuals      Union Grounds (Brooklyn)         NaN   90   \n",
       "\n",
       "   PPF  teamIDBR  teamIDlahman45  teamIDretro  \n",
       "0   98       BOS             BS1          BS1  \n",
       "1  102       CHI             CH1          CH1  \n",
       "2  100       CLE             CL1          CL1  \n",
       "3  107       KEK             FW1          FW1  \n",
       "4   88       NYU             NY2          NY2  \n",
       "\n",
       "[5 rows x 48 columns]"
      ]
     },
     "execution_count": 6,
     "metadata": {},
     "output_type": "execute_result"
    }
   ],
   "source": [
    "teams.head()"
   ]
  },
  {
   "cell_type": "code",
   "execution_count": 7,
   "metadata": {
    "scrolled": false
   },
   "outputs": [
    {
     "data": {
      "text/html": [
       "<div>\n",
       "<style scoped>\n",
       "    .dataframe tbody tr th:only-of-type {\n",
       "        vertical-align: middle;\n",
       "    }\n",
       "\n",
       "    .dataframe tbody tr th {\n",
       "        vertical-align: top;\n",
       "    }\n",
       "\n",
       "    .dataframe thead th {\n",
       "        text-align: right;\n",
       "    }\n",
       "</style>\n",
       "<table border=\"1\" class=\"dataframe\">\n",
       "  <thead>\n",
       "    <tr style=\"text-align: right;\">\n",
       "      <th></th>\n",
       "      <th>yearID</th>\n",
       "      <th>teamID</th>\n",
       "      <th>lgID</th>\n",
       "      <th>playerID</th>\n",
       "      <th>salary</th>\n",
       "    </tr>\n",
       "  </thead>\n",
       "  <tbody>\n",
       "    <tr>\n",
       "      <th>0</th>\n",
       "      <td>1985</td>\n",
       "      <td>ATL</td>\n",
       "      <td>NL</td>\n",
       "      <td>barkele01</td>\n",
       "      <td>870000.0</td>\n",
       "    </tr>\n",
       "    <tr>\n",
       "      <th>1</th>\n",
       "      <td>1985</td>\n",
       "      <td>ATL</td>\n",
       "      <td>NL</td>\n",
       "      <td>bedrost01</td>\n",
       "      <td>550000.0</td>\n",
       "    </tr>\n",
       "    <tr>\n",
       "      <th>2</th>\n",
       "      <td>1985</td>\n",
       "      <td>ATL</td>\n",
       "      <td>NL</td>\n",
       "      <td>benedbr01</td>\n",
       "      <td>545000.0</td>\n",
       "    </tr>\n",
       "    <tr>\n",
       "      <th>3</th>\n",
       "      <td>1985</td>\n",
       "      <td>ATL</td>\n",
       "      <td>NL</td>\n",
       "      <td>campri01</td>\n",
       "      <td>633333.0</td>\n",
       "    </tr>\n",
       "    <tr>\n",
       "      <th>4</th>\n",
       "      <td>1985</td>\n",
       "      <td>ATL</td>\n",
       "      <td>NL</td>\n",
       "      <td>ceronri01</td>\n",
       "      <td>625000.0</td>\n",
       "    </tr>\n",
       "  </tbody>\n",
       "</table>\n",
       "</div>"
      ],
      "text/plain": [
       "   yearID teamID lgID   playerID    salary\n",
       "0    1985    ATL   NL  barkele01  870000.0\n",
       "1    1985    ATL   NL  bedrost01  550000.0\n",
       "2    1985    ATL   NL  benedbr01  545000.0\n",
       "3    1985    ATL   NL   campri01  633333.0\n",
       "4    1985    ATL   NL  ceronri01  625000.0"
      ]
     },
     "execution_count": 7,
     "metadata": {},
     "output_type": "execute_result"
    }
   ],
   "source": [
    "salaries.head()"
   ]
  },
  {
   "cell_type": "markdown",
   "metadata": {},
   "source": [
    "### SQL Code\n",
    "\n",
    "SQL was used to join database tables and compute a usable dataset for python analysis. We used **INNER JOIN** between the *Pitching*, *Master* and *Salary* tables in SQL. These 3 were all pitcher specific data. We can get the `min()` of each pitcher's ***yearID*** and **INNER JOIN** this subquery onto the *Pitching* table. I labeled this new column ***first_year*** which indicated their first year pitching in the MLB. We can join this to the *Master* dataset on ***playedID*** and that to the *Salary* table based on ***playedID*** and ***yearID***.\n",
    "\n",
    "Lastly, we can filter by pitchers who pitched 10 games or more in the years 2007-2016. Using `.read_sql()` allows us to bring in this newfound dataset."
   ]
  },
  {
   "cell_type": "code",
   "execution_count": 8,
   "metadata": {},
   "outputs": [
    {
     "data": {
      "text/html": [
       "<div>\n",
       "<style scoped>\n",
       "    .dataframe tbody tr th:only-of-type {\n",
       "        vertical-align: middle;\n",
       "    }\n",
       "\n",
       "    .dataframe tbody tr th {\n",
       "        vertical-align: top;\n",
       "    }\n",
       "\n",
       "    .dataframe thead th {\n",
       "        text-align: right;\n",
       "    }\n",
       "</style>\n",
       "<table border=\"1\" class=\"dataframe\">\n",
       "  <thead>\n",
       "    <tr style=\"text-align: right;\">\n",
       "      <th></th>\n",
       "      <th>playerID</th>\n",
       "      <th>birthYear</th>\n",
       "      <th>first_year</th>\n",
       "      <th>yearID</th>\n",
       "      <th>salary</th>\n",
       "      <th>teamID</th>\n",
       "      <th>pitcher_SO</th>\n",
       "      <th>games_pitched</th>\n",
       "      <th>pitch_wins</th>\n",
       "      <th>pitch_loss</th>\n",
       "      <th>BB</th>\n",
       "      <th>IBB</th>\n",
       "      <th>HBP</th>\n",
       "      <th>BAOpp</th>\n",
       "    </tr>\n",
       "  </thead>\n",
       "  <tbody>\n",
       "    <tr>\n",
       "      <th>0</th>\n",
       "      <td>aardsda01</td>\n",
       "      <td>1981</td>\n",
       "      <td>2004</td>\n",
       "      <td>2007</td>\n",
       "      <td>387500.0</td>\n",
       "      <td>CHA</td>\n",
       "      <td>36</td>\n",
       "      <td>25</td>\n",
       "      <td>2</td>\n",
       "      <td>1</td>\n",
       "      <td>17</td>\n",
       "      <td>3</td>\n",
       "      <td>1</td>\n",
       "      <td>0.300</td>\n",
       "    </tr>\n",
       "    <tr>\n",
       "      <th>1</th>\n",
       "      <td>aardsda01</td>\n",
       "      <td>1981</td>\n",
       "      <td>2004</td>\n",
       "      <td>2008</td>\n",
       "      <td>403250.0</td>\n",
       "      <td>BOS</td>\n",
       "      <td>49</td>\n",
       "      <td>47</td>\n",
       "      <td>4</td>\n",
       "      <td>2</td>\n",
       "      <td>35</td>\n",
       "      <td>2</td>\n",
       "      <td>5</td>\n",
       "      <td>0.268</td>\n",
       "    </tr>\n",
       "    <tr>\n",
       "      <th>2</th>\n",
       "      <td>aardsda01</td>\n",
       "      <td>1981</td>\n",
       "      <td>2004</td>\n",
       "      <td>2009</td>\n",
       "      <td>419000.0</td>\n",
       "      <td>SEA</td>\n",
       "      <td>80</td>\n",
       "      <td>73</td>\n",
       "      <td>3</td>\n",
       "      <td>6</td>\n",
       "      <td>34</td>\n",
       "      <td>3</td>\n",
       "      <td>0</td>\n",
       "      <td>0.190</td>\n",
       "    </tr>\n",
       "    <tr>\n",
       "      <th>3</th>\n",
       "      <td>aardsda01</td>\n",
       "      <td>1981</td>\n",
       "      <td>2004</td>\n",
       "      <td>2010</td>\n",
       "      <td>2750000.0</td>\n",
       "      <td>SEA</td>\n",
       "      <td>49</td>\n",
       "      <td>53</td>\n",
       "      <td>0</td>\n",
       "      <td>6</td>\n",
       "      <td>25</td>\n",
       "      <td>5</td>\n",
       "      <td>2</td>\n",
       "      <td>0.198</td>\n",
       "    </tr>\n",
       "    <tr>\n",
       "      <th>4</th>\n",
       "      <td>abadfe01</td>\n",
       "      <td>1985</td>\n",
       "      <td>2010</td>\n",
       "      <td>2011</td>\n",
       "      <td>418000.0</td>\n",
       "      <td>HOU</td>\n",
       "      <td>15</td>\n",
       "      <td>29</td>\n",
       "      <td>1</td>\n",
       "      <td>4</td>\n",
       "      <td>9</td>\n",
       "      <td>0</td>\n",
       "      <td>1</td>\n",
       "      <td>0.326</td>\n",
       "    </tr>\n",
       "  </tbody>\n",
       "</table>\n",
       "</div>"
      ],
      "text/plain": [
       "    playerID  birthYear  first_year  yearID     salary teamID  pitcher_SO  \\\n",
       "0  aardsda01       1981        2004    2007   387500.0    CHA          36   \n",
       "1  aardsda01       1981        2004    2008   403250.0    BOS          49   \n",
       "2  aardsda01       1981        2004    2009   419000.0    SEA          80   \n",
       "3  aardsda01       1981        2004    2010  2750000.0    SEA          49   \n",
       "4   abadfe01       1985        2010    2011   418000.0    HOU          15   \n",
       "\n",
       "   games_pitched  pitch_wins  pitch_loss  BB  IBB  HBP  BAOpp  \n",
       "0             25           2           1  17    3    1  0.300  \n",
       "1             47           4           2  35    2    5  0.268  \n",
       "2             73           3           6  34    3    0  0.190  \n",
       "3             53           0           6  25    5    2  0.198  \n",
       "4             29           1           4   9    0    1  0.326  "
      ]
     },
     "execution_count": 8,
     "metadata": {},
     "output_type": "execute_result"
    }
   ],
   "source": [
    "querry = '''SELECT\n",
    "  p.playerID,\n",
    "  m.birthYear,\n",
    "  fy.first_year,\n",
    "  p.yearid,\n",
    "  s.salary,\n",
    "  p.teamID,\n",
    "  p.SO as pitcher_SO, \n",
    "  p.G as games_pitched,\n",
    "  p.W as pitch_wins,\n",
    "  p.L as pitch_loss,\n",
    "  p.BB,\n",
    "  p.IBB,\n",
    "  p.HBP,\n",
    "  p.BAOpp\n",
    "FROM Pitching as p\n",
    "INNER JOIN Salaries as s\n",
    "  ON s.playerID = p.playerID AND s.yearid = p.yearid\n",
    "INNER JOIN Master as m\n",
    "  ON m.playerID = p.playerID\n",
    "INNER JOIN (\n",
    "SELECT \n",
    "    playerID,\n",
    "    min(yearID) as first_year\n",
    "FROM Pitching\n",
    "GROUP BY playerID\n",
    ") as fy ON fy.playerID = p.playerID\n",
    "WHERE p.yearid >= 2007\n",
    "  AND p.G >= 10\n",
    "ORDER BY p.playerID ASC\n",
    "'''\n",
    "\n",
    "pitcher_data = pd.read_sql(sql = querry, con = lah_db)\n",
    "pitcher_data.head()"
   ]
  },
  {
   "cell_type": "markdown",
   "metadata": {},
   "source": [
    "### Merging and Calculations\n",
    "\n",
    "Each pitcher's current age per ***yearID*** and career age per each ***yearID*** was determined subtracting necessary columns. "
   ]
  },
  {
   "cell_type": "code",
   "execution_count": 9,
   "metadata": {
    "scrolled": true
   },
   "outputs": [
    {
     "data": {
      "text/html": [
       "<div>\n",
       "<style scoped>\n",
       "    .dataframe tbody tr th:only-of-type {\n",
       "        vertical-align: middle;\n",
       "    }\n",
       "\n",
       "    .dataframe tbody tr th {\n",
       "        vertical-align: top;\n",
       "    }\n",
       "\n",
       "    .dataframe thead th {\n",
       "        text-align: right;\n",
       "    }\n",
       "</style>\n",
       "<table border=\"1\" class=\"dataframe\">\n",
       "  <thead>\n",
       "    <tr style=\"text-align: right;\">\n",
       "      <th></th>\n",
       "      <th>playerID</th>\n",
       "      <th>age</th>\n",
       "      <th>first_year</th>\n",
       "      <th>yearID</th>\n",
       "      <th>career_age</th>\n",
       "      <th>salary</th>\n",
       "      <th>teamID</th>\n",
       "    </tr>\n",
       "  </thead>\n",
       "  <tbody>\n",
       "    <tr>\n",
       "      <th>0</th>\n",
       "      <td>aardsda01</td>\n",
       "      <td>26</td>\n",
       "      <td>2004</td>\n",
       "      <td>2007</td>\n",
       "      <td>3</td>\n",
       "      <td>387500.0</td>\n",
       "      <td>CHA</td>\n",
       "    </tr>\n",
       "    <tr>\n",
       "      <th>1</th>\n",
       "      <td>aardsda01</td>\n",
       "      <td>27</td>\n",
       "      <td>2004</td>\n",
       "      <td>2008</td>\n",
       "      <td>4</td>\n",
       "      <td>403250.0</td>\n",
       "      <td>BOS</td>\n",
       "    </tr>\n",
       "    <tr>\n",
       "      <th>2</th>\n",
       "      <td>aardsda01</td>\n",
       "      <td>28</td>\n",
       "      <td>2004</td>\n",
       "      <td>2009</td>\n",
       "      <td>5</td>\n",
       "      <td>419000.0</td>\n",
       "      <td>SEA</td>\n",
       "    </tr>\n",
       "    <tr>\n",
       "      <th>3</th>\n",
       "      <td>aardsda01</td>\n",
       "      <td>29</td>\n",
       "      <td>2004</td>\n",
       "      <td>2010</td>\n",
       "      <td>6</td>\n",
       "      <td>2750000.0</td>\n",
       "      <td>SEA</td>\n",
       "    </tr>\n",
       "    <tr>\n",
       "      <th>4</th>\n",
       "      <td>abadfe01</td>\n",
       "      <td>26</td>\n",
       "      <td>2010</td>\n",
       "      <td>2011</td>\n",
       "      <td>1</td>\n",
       "      <td>418000.0</td>\n",
       "      <td>HOU</td>\n",
       "    </tr>\n",
       "  </tbody>\n",
       "</table>\n",
       "</div>"
      ],
      "text/plain": [
       "    playerID  age  first_year  yearID  career_age     salary teamID\n",
       "0  aardsda01   26        2004    2007           3   387500.0    CHA\n",
       "1  aardsda01   27        2004    2008           4   403250.0    BOS\n",
       "2  aardsda01   28        2004    2009           5   419000.0    SEA\n",
       "3  aardsda01   29        2004    2010           6  2750000.0    SEA\n",
       "4   abadfe01   26        2010    2011           1   418000.0    HOU"
      ]
     },
     "execution_count": 9,
     "metadata": {},
     "output_type": "execute_result"
    }
   ],
   "source": [
    "#Calculate age of pitchers and their yeras in the league\n",
    "pitcher_data[\"age\"] = pitcher_data.yearID - pitcher_data.birthYear\n",
    "pitcher_data[\"career_age\"] = pitcher_data.yearID - pitcher_data.first_year #career age is firt year minus current year\n",
    "pitcher_data[[\"playerID\", \"age\", \"first_year\", \"yearID\", \"career_age\",\"salary\", \"teamID\"]].head()"
   ]
  },
  {
   "cell_type": "markdown",
   "metadata": {},
   "source": [
    "We can use place holders *new1* and *new2* to find the average of each bullpen actual age and career age for each team-year combo. This was accomplished by `.groupby()` ***teamID*** and ***yearID***. Dividing the `.sum()` by the `.count()` datasets gave the average columns for the wanted ages."
   ]
  },
  {
   "cell_type": "code",
   "execution_count": 10,
   "metadata": {},
   "outputs": [
    {
     "data": {
      "text/html": [
       "<div>\n",
       "<style scoped>\n",
       "    .dataframe tbody tr th:only-of-type {\n",
       "        vertical-align: middle;\n",
       "    }\n",
       "\n",
       "    .dataframe tbody tr th {\n",
       "        vertical-align: top;\n",
       "    }\n",
       "\n",
       "    .dataframe thead th {\n",
       "        text-align: right;\n",
       "    }\n",
       "</style>\n",
       "<table border=\"1\" class=\"dataframe\">\n",
       "  <thead>\n",
       "    <tr style=\"text-align: right;\">\n",
       "      <th></th>\n",
       "      <th></th>\n",
       "      <th>avg_bullpen_age</th>\n",
       "      <th>avg_years_pro</th>\n",
       "      <th>salary</th>\n",
       "    </tr>\n",
       "    <tr>\n",
       "      <th>teamID</th>\n",
       "      <th>yearID</th>\n",
       "      <th></th>\n",
       "      <th></th>\n",
       "      <th></th>\n",
       "    </tr>\n",
       "  </thead>\n",
       "  <tbody>\n",
       "    <tr>\n",
       "      <th rowspan=\"10\" valign=\"top\">ARI</th>\n",
       "      <th>2007</th>\n",
       "      <td>29.250000</td>\n",
       "      <td>5.666667</td>\n",
       "      <td>32957046.0</td>\n",
       "    </tr>\n",
       "    <tr>\n",
       "      <th>2008</th>\n",
       "      <td>29.357143</td>\n",
       "      <td>5.571429</td>\n",
       "      <td>42398046.0</td>\n",
       "    </tr>\n",
       "    <tr>\n",
       "      <th>2009</th>\n",
       "      <td>29.250000</td>\n",
       "      <td>5.250000</td>\n",
       "      <td>34709500.0</td>\n",
       "    </tr>\n",
       "    <tr>\n",
       "      <th>2010</th>\n",
       "      <td>29.785714</td>\n",
       "      <td>5.357143</td>\n",
       "      <td>29238000.0</td>\n",
       "    </tr>\n",
       "    <tr>\n",
       "      <th>2011</th>\n",
       "      <td>28.454545</td>\n",
       "      <td>4.000000</td>\n",
       "      <td>18777000.0</td>\n",
       "    </tr>\n",
       "    <tr>\n",
       "      <th>2012</th>\n",
       "      <td>30.000000</td>\n",
       "      <td>4.461538</td>\n",
       "      <td>26683500.0</td>\n",
       "    </tr>\n",
       "    <tr>\n",
       "      <th>2013</th>\n",
       "      <td>29.285714</td>\n",
       "      <td>4.714286</td>\n",
       "      <td>41364000.0</td>\n",
       "    </tr>\n",
       "    <tr>\n",
       "      <th>2014</th>\n",
       "      <td>30.333333</td>\n",
       "      <td>5.833333</td>\n",
       "      <td>36336500.0</td>\n",
       "    </tr>\n",
       "    <tr>\n",
       "      <th>2015</th>\n",
       "      <td>28.200000</td>\n",
       "      <td>4.333333</td>\n",
       "      <td>25058500.0</td>\n",
       "    </tr>\n",
       "    <tr>\n",
       "      <th>2016</th>\n",
       "      <td>28.000000</td>\n",
       "      <td>4.916667</td>\n",
       "      <td>58656530.0</td>\n",
       "    </tr>\n",
       "    <tr>\n",
       "      <th rowspan=\"10\" valign=\"top\">ATL</th>\n",
       "      <th>2007</th>\n",
       "      <td>30.384615</td>\n",
       "      <td>6.538462</td>\n",
       "      <td>31175000.0</td>\n",
       "    </tr>\n",
       "    <tr>\n",
       "      <th>2008</th>\n",
       "      <td>30.214286</td>\n",
       "      <td>7.214286</td>\n",
       "      <td>53297684.0</td>\n",
       "    </tr>\n",
       "    <tr>\n",
       "      <th>2009</th>\n",
       "      <td>30.300000</td>\n",
       "      <td>5.900000</td>\n",
       "      <td>46756166.0</td>\n",
       "    </tr>\n",
       "    <tr>\n",
       "      <th>2010</th>\n",
       "      <td>31.416667</td>\n",
       "      <td>5.833333</td>\n",
       "      <td>49111166.0</td>\n",
       "    </tr>\n",
       "    <tr>\n",
       "      <th>2011</th>\n",
       "      <td>29.583333</td>\n",
       "      <td>5.416667</td>\n",
       "      <td>38985500.0</td>\n",
       "    </tr>\n",
       "    <tr>\n",
       "      <th>2012</th>\n",
       "      <td>28.466667</td>\n",
       "      <td>5.333333</td>\n",
       "      <td>27468000.0</td>\n",
       "    </tr>\n",
       "    <tr>\n",
       "      <th>2013</th>\n",
       "      <td>28.923077</td>\n",
       "      <td>5.615385</td>\n",
       "      <td>32084000.0</td>\n",
       "    </tr>\n",
       "    <tr>\n",
       "      <th>2014</th>\n",
       "      <td>27.750000</td>\n",
       "      <td>4.250000</td>\n",
       "      <td>32588750.0</td>\n",
       "    </tr>\n",
       "    <tr>\n",
       "      <th>2015</th>\n",
       "      <td>28.200000</td>\n",
       "      <td>6.300000</td>\n",
       "      <td>37393750.0</td>\n",
       "    </tr>\n",
       "    <tr>\n",
       "      <th>2016</th>\n",
       "      <td>28.909091</td>\n",
       "      <td>5.727273</td>\n",
       "      <td>18772916.0</td>\n",
       "    </tr>\n",
       "    <tr>\n",
       "      <th rowspan=\"10\" valign=\"top\">BAL</th>\n",
       "      <th>2007</th>\n",
       "      <td>30.400000</td>\n",
       "      <td>6.700000</td>\n",
       "      <td>22333334.0</td>\n",
       "    </tr>\n",
       "    <tr>\n",
       "      <th>2008</th>\n",
       "      <td>29.583333</td>\n",
       "      <td>4.916667</td>\n",
       "      <td>16826666.0</td>\n",
       "    </tr>\n",
       "    <tr>\n",
       "      <th>2009</th>\n",
       "      <td>30.000000</td>\n",
       "      <td>4.538462</td>\n",
       "      <td>24937566.0</td>\n",
       "    </tr>\n",
       "    <tr>\n",
       "      <th>2010</th>\n",
       "      <td>29.538462</td>\n",
       "      <td>4.769231</td>\n",
       "      <td>33027500.0</td>\n",
       "    </tr>\n",
       "    <tr>\n",
       "      <th>2011</th>\n",
       "      <td>28.384615</td>\n",
       "      <td>3.846154</td>\n",
       "      <td>24909660.0</td>\n",
       "    </tr>\n",
       "    <tr>\n",
       "      <th>2012</th>\n",
       "      <td>28.615385</td>\n",
       "      <td>4.384615</td>\n",
       "      <td>25306000.0</td>\n",
       "    </tr>\n",
       "    <tr>\n",
       "      <th>2013</th>\n",
       "      <td>28.076923</td>\n",
       "      <td>4.307692</td>\n",
       "      <td>34343333.0</td>\n",
       "    </tr>\n",
       "    <tr>\n",
       "      <th>2014</th>\n",
       "      <td>27.928571</td>\n",
       "      <td>4.285714</td>\n",
       "      <td>35986000.0</td>\n",
       "    </tr>\n",
       "    <tr>\n",
       "      <th>2015</th>\n",
       "      <td>28.833333</td>\n",
       "      <td>4.916667</td>\n",
       "      <td>50254000.0</td>\n",
       "    </tr>\n",
       "    <tr>\n",
       "      <th>2016</th>\n",
       "      <td>28.466667</td>\n",
       "      <td>5.066667</td>\n",
       "      <td>66800264.0</td>\n",
       "    </tr>\n",
       "    <tr>\n",
       "      <th>...</th>\n",
       "      <th>...</th>\n",
       "      <td>...</td>\n",
       "      <td>...</td>\n",
       "      <td>...</td>\n",
       "    </tr>\n",
       "    <tr>\n",
       "      <th rowspan=\"10\" valign=\"top\">TEX</th>\n",
       "      <th>2007</th>\n",
       "      <td>28.923077</td>\n",
       "      <td>4.692308</td>\n",
       "      <td>32893645.0</td>\n",
       "    </tr>\n",
       "    <tr>\n",
       "      <th>2008</th>\n",
       "      <td>29.818182</td>\n",
       "      <td>6.545455</td>\n",
       "      <td>29001242.0</td>\n",
       "    </tr>\n",
       "    <tr>\n",
       "      <th>2009</th>\n",
       "      <td>29.714286</td>\n",
       "      <td>5.857143</td>\n",
       "      <td>34056562.0</td>\n",
       "    </tr>\n",
       "    <tr>\n",
       "      <th>2010</th>\n",
       "      <td>28.785714</td>\n",
       "      <td>5.357143</td>\n",
       "      <td>32732040.0</td>\n",
       "    </tr>\n",
       "    <tr>\n",
       "      <th>2011</th>\n",
       "      <td>30.666667</td>\n",
       "      <td>6.200000</td>\n",
       "      <td>31699950.0</td>\n",
       "    </tr>\n",
       "    <tr>\n",
       "      <th>2012</th>\n",
       "      <td>31.000000</td>\n",
       "      <td>5.461538</td>\n",
       "      <td>53027600.0</td>\n",
       "    </tr>\n",
       "    <tr>\n",
       "      <th>2013</th>\n",
       "      <td>28.153846</td>\n",
       "      <td>3.923077</td>\n",
       "      <td>38116800.0</td>\n",
       "    </tr>\n",
       "    <tr>\n",
       "      <th>2014</th>\n",
       "      <td>29.571429</td>\n",
       "      <td>5.142857</td>\n",
       "      <td>20589827.0</td>\n",
       "    </tr>\n",
       "    <tr>\n",
       "      <th>2015</th>\n",
       "      <td>28.105263</td>\n",
       "      <td>4.578947</td>\n",
       "      <td>63852900.0</td>\n",
       "    </tr>\n",
       "    <tr>\n",
       "      <th>2016</th>\n",
       "      <td>29.750000</td>\n",
       "      <td>5.000000</td>\n",
       "      <td>53242370.0</td>\n",
       "    </tr>\n",
       "    <tr>\n",
       "      <th rowspan=\"10\" valign=\"top\">TOR</th>\n",
       "      <th>2007</th>\n",
       "      <td>28.888889</td>\n",
       "      <td>5.111111</td>\n",
       "      <td>33363500.0</td>\n",
       "    </tr>\n",
       "    <tr>\n",
       "      <th>2008</th>\n",
       "      <td>28.750000</td>\n",
       "      <td>5.083333</td>\n",
       "      <td>41605400.0</td>\n",
       "    </tr>\n",
       "    <tr>\n",
       "      <th>2009</th>\n",
       "      <td>30.454545</td>\n",
       "      <td>5.181818</td>\n",
       "      <td>35479900.0</td>\n",
       "    </tr>\n",
       "    <tr>\n",
       "      <th>2010</th>\n",
       "      <td>30.200000</td>\n",
       "      <td>5.100000</td>\n",
       "      <td>14572100.0</td>\n",
       "    </tr>\n",
       "    <tr>\n",
       "      <th>2011</th>\n",
       "      <td>29.500000</td>\n",
       "      <td>5.071429</td>\n",
       "      <td>24617800.0</td>\n",
       "    </tr>\n",
       "    <tr>\n",
       "      <th>2012</th>\n",
       "      <td>30.071429</td>\n",
       "      <td>5.857143</td>\n",
       "      <td>36044400.0</td>\n",
       "    </tr>\n",
       "    <tr>\n",
       "      <th>2013</th>\n",
       "      <td>31.071429</td>\n",
       "      <td>6.928571</td>\n",
       "      <td>56108000.0</td>\n",
       "    </tr>\n",
       "    <tr>\n",
       "      <th>2014</th>\n",
       "      <td>30.500000</td>\n",
       "      <td>5.583333</td>\n",
       "      <td>39637200.0</td>\n",
       "    </tr>\n",
       "    <tr>\n",
       "      <th>2015</th>\n",
       "      <td>31.300000</td>\n",
       "      <td>8.000000</td>\n",
       "      <td>62962600.0</td>\n",
       "    </tr>\n",
       "    <tr>\n",
       "      <th>2016</th>\n",
       "      <td>30.812500</td>\n",
       "      <td>7.125000</td>\n",
       "      <td>75087267.0</td>\n",
       "    </tr>\n",
       "    <tr>\n",
       "      <th rowspan=\"10\" valign=\"top\">WAS</th>\n",
       "      <th>2007</th>\n",
       "      <td>27.909091</td>\n",
       "      <td>4.000000</td>\n",
       "      <td>9950000.0</td>\n",
       "    </tr>\n",
       "    <tr>\n",
       "      <th>2008</th>\n",
       "      <td>29.272727</td>\n",
       "      <td>5.000000</td>\n",
       "      <td>8901000.0</td>\n",
       "    </tr>\n",
       "    <tr>\n",
       "      <th>2009</th>\n",
       "      <td>28.454545</td>\n",
       "      <td>5.000000</td>\n",
       "      <td>11137500.0</td>\n",
       "    </tr>\n",
       "    <tr>\n",
       "      <th>2010</th>\n",
       "      <td>29.444444</td>\n",
       "      <td>6.666667</td>\n",
       "      <td>16186000.0</td>\n",
       "    </tr>\n",
       "    <tr>\n",
       "      <th>2011</th>\n",
       "      <td>28.500000</td>\n",
       "      <td>5.500000</td>\n",
       "      <td>21200000.0</td>\n",
       "    </tr>\n",
       "    <tr>\n",
       "      <th>2012</th>\n",
       "      <td>28.142857</td>\n",
       "      <td>4.928571</td>\n",
       "      <td>35923465.0</td>\n",
       "    </tr>\n",
       "    <tr>\n",
       "      <th>2013</th>\n",
       "      <td>28.461538</td>\n",
       "      <td>5.230769</td>\n",
       "      <td>52255991.0</td>\n",
       "    </tr>\n",
       "    <tr>\n",
       "      <th>2014</th>\n",
       "      <td>29.916667</td>\n",
       "      <td>6.083333</td>\n",
       "      <td>57556100.0</td>\n",
       "    </tr>\n",
       "    <tr>\n",
       "      <th>2015</th>\n",
       "      <td>30.583333</td>\n",
       "      <td>5.833333</td>\n",
       "      <td>90698600.0</td>\n",
       "    </tr>\n",
       "    <tr>\n",
       "      <th>2016</th>\n",
       "      <td>30.714286</td>\n",
       "      <td>7.000000</td>\n",
       "      <td>81028231.0</td>\n",
       "    </tr>\n",
       "  </tbody>\n",
       "</table>\n",
       "<p>300 rows × 3 columns</p>\n",
       "</div>"
      ],
      "text/plain": [
       "               avg_bullpen_age  avg_years_pro      salary\n",
       "teamID yearID                                            \n",
       "ARI    2007          29.250000       5.666667  32957046.0\n",
       "       2008          29.357143       5.571429  42398046.0\n",
       "       2009          29.250000       5.250000  34709500.0\n",
       "       2010          29.785714       5.357143  29238000.0\n",
       "       2011          28.454545       4.000000  18777000.0\n",
       "       2012          30.000000       4.461538  26683500.0\n",
       "       2013          29.285714       4.714286  41364000.0\n",
       "       2014          30.333333       5.833333  36336500.0\n",
       "       2015          28.200000       4.333333  25058500.0\n",
       "       2016          28.000000       4.916667  58656530.0\n",
       "ATL    2007          30.384615       6.538462  31175000.0\n",
       "       2008          30.214286       7.214286  53297684.0\n",
       "       2009          30.300000       5.900000  46756166.0\n",
       "       2010          31.416667       5.833333  49111166.0\n",
       "       2011          29.583333       5.416667  38985500.0\n",
       "       2012          28.466667       5.333333  27468000.0\n",
       "       2013          28.923077       5.615385  32084000.0\n",
       "       2014          27.750000       4.250000  32588750.0\n",
       "       2015          28.200000       6.300000  37393750.0\n",
       "       2016          28.909091       5.727273  18772916.0\n",
       "BAL    2007          30.400000       6.700000  22333334.0\n",
       "       2008          29.583333       4.916667  16826666.0\n",
       "       2009          30.000000       4.538462  24937566.0\n",
       "       2010          29.538462       4.769231  33027500.0\n",
       "       2011          28.384615       3.846154  24909660.0\n",
       "       2012          28.615385       4.384615  25306000.0\n",
       "       2013          28.076923       4.307692  34343333.0\n",
       "       2014          27.928571       4.285714  35986000.0\n",
       "       2015          28.833333       4.916667  50254000.0\n",
       "       2016          28.466667       5.066667  66800264.0\n",
       "...                        ...            ...         ...\n",
       "TEX    2007          28.923077       4.692308  32893645.0\n",
       "       2008          29.818182       6.545455  29001242.0\n",
       "       2009          29.714286       5.857143  34056562.0\n",
       "       2010          28.785714       5.357143  32732040.0\n",
       "       2011          30.666667       6.200000  31699950.0\n",
       "       2012          31.000000       5.461538  53027600.0\n",
       "       2013          28.153846       3.923077  38116800.0\n",
       "       2014          29.571429       5.142857  20589827.0\n",
       "       2015          28.105263       4.578947  63852900.0\n",
       "       2016          29.750000       5.000000  53242370.0\n",
       "TOR    2007          28.888889       5.111111  33363500.0\n",
       "       2008          28.750000       5.083333  41605400.0\n",
       "       2009          30.454545       5.181818  35479900.0\n",
       "       2010          30.200000       5.100000  14572100.0\n",
       "       2011          29.500000       5.071429  24617800.0\n",
       "       2012          30.071429       5.857143  36044400.0\n",
       "       2013          31.071429       6.928571  56108000.0\n",
       "       2014          30.500000       5.583333  39637200.0\n",
       "       2015          31.300000       8.000000  62962600.0\n",
       "       2016          30.812500       7.125000  75087267.0\n",
       "WAS    2007          27.909091       4.000000   9950000.0\n",
       "       2008          29.272727       5.000000   8901000.0\n",
       "       2009          28.454545       5.000000  11137500.0\n",
       "       2010          29.444444       6.666667  16186000.0\n",
       "       2011          28.500000       5.500000  21200000.0\n",
       "       2012          28.142857       4.928571  35923465.0\n",
       "       2013          28.461538       5.230769  52255991.0\n",
       "       2014          29.916667       6.083333  57556100.0\n",
       "       2015          30.583333       5.833333  90698600.0\n",
       "       2016          30.714286       7.000000  81028231.0\n",
       "\n",
       "[300 rows x 3 columns]"
      ]
     },
     "execution_count": 10,
     "metadata": {},
     "output_type": "execute_result"
    }
   ],
   "source": [
    "#Find the avg bullpen age and avg years pro per bullpen for team-year.\n",
    "new1 = pitcher_data.groupby([\"teamID\", \"yearID\"]).sum()\n",
    "new2 = pitcher_data.groupby([\"teamID\", \"yearID\"]).count()\n",
    "new1[\"avg_bullpen_age\"] = new1[\"age\"]/new2[\"age\"] #avg age of pitching bullpen for a given year\n",
    "new1[\"avg_years_pro\"] = new1[\"career_age\"]/new2[\"career_age\"] #avg years in league for bullpen for a given year\n",
    "new1[[\"avg_bullpen_age\", \"avg_years_pro\", \"salary\"]]"
   ]
  },
  {
   "cell_type": "markdown",
   "metadata": {},
   "source": [
    "The cost per strikeout was determined by dividing each bullpens's (team-year combo) `.sum()` salary by their total pitched strikouts. Resetting the index allowed the dataset to be later merged in with *Teams*. The **Pittsburgh Pirates** in 2008 paid the least per strikeout for all applicable candidates at roughly **$9800** per strikeout.  "
   ]
  },
  {
   "cell_type": "code",
   "execution_count": 11,
   "metadata": {},
   "outputs": [
    {
     "data": {
      "text/html": [
       "<div>\n",
       "<style scoped>\n",
       "    .dataframe tbody tr th:only-of-type {\n",
       "        vertical-align: middle;\n",
       "    }\n",
       "\n",
       "    .dataframe tbody tr th {\n",
       "        vertical-align: top;\n",
       "    }\n",
       "\n",
       "    .dataframe thead th {\n",
       "        text-align: right;\n",
       "    }\n",
       "</style>\n",
       "<table border=\"1\" class=\"dataframe\">\n",
       "  <thead>\n",
       "    <tr style=\"text-align: right;\">\n",
       "      <th></th>\n",
       "      <th>teamID</th>\n",
       "      <th>yearID</th>\n",
       "      <th>avg_bullpen_age</th>\n",
       "      <th>avg_years_pro</th>\n",
       "      <th>cost_per_SO</th>\n",
       "      <th>salary</th>\n",
       "      <th>pitcher_SO</th>\n",
       "    </tr>\n",
       "  </thead>\n",
       "  <tbody>\n",
       "    <tr>\n",
       "      <th>0</th>\n",
       "      <td>PIT</td>\n",
       "      <td>2008</td>\n",
       "      <td>27.545455</td>\n",
       "      <td>3.818182</td>\n",
       "      <td>9758.597884</td>\n",
       "      <td>7377500.0</td>\n",
       "      <td>756</td>\n",
       "    </tr>\n",
       "    <tr>\n",
       "      <th>1</th>\n",
       "      <td>OAK</td>\n",
       "      <td>2009</td>\n",
       "      <td>27.500000</td>\n",
       "      <td>3.416667</td>\n",
       "      <td>10696.969697</td>\n",
       "      <td>8472000.0</td>\n",
       "      <td>792</td>\n",
       "    </tr>\n",
       "    <tr>\n",
       "      <th>2</th>\n",
       "      <td>FLO</td>\n",
       "      <td>2009</td>\n",
       "      <td>26.846154</td>\n",
       "      <td>3.538462</td>\n",
       "      <td>11426.113360</td>\n",
       "      <td>11289000.0</td>\n",
       "      <td>988</td>\n",
       "    </tr>\n",
       "    <tr>\n",
       "      <th>3</th>\n",
       "      <td>FLO</td>\n",
       "      <td>2008</td>\n",
       "      <td>26.750000</td>\n",
       "      <td>3.166667</td>\n",
       "      <td>11697.337963</td>\n",
       "      <td>10106500.0</td>\n",
       "      <td>864</td>\n",
       "    </tr>\n",
       "    <tr>\n",
       "      <th>4</th>\n",
       "      <td>WAS</td>\n",
       "      <td>2008</td>\n",
       "      <td>29.272727</td>\n",
       "      <td>5.000000</td>\n",
       "      <td>12733.905579</td>\n",
       "      <td>8901000.0</td>\n",
       "      <td>699</td>\n",
       "    </tr>\n",
       "  </tbody>\n",
       "</table>\n",
       "</div>"
      ],
      "text/plain": [
       "  teamID  yearID  avg_bullpen_age  avg_years_pro   cost_per_SO      salary  \\\n",
       "0    PIT    2008        27.545455       3.818182   9758.597884   7377500.0   \n",
       "1    OAK    2009        27.500000       3.416667  10696.969697   8472000.0   \n",
       "2    FLO    2009        26.846154       3.538462  11426.113360  11289000.0   \n",
       "3    FLO    2008        26.750000       3.166667  11697.337963  10106500.0   \n",
       "4    WAS    2008        29.272727       5.000000  12733.905579   8901000.0   \n",
       "\n",
       "   pitcher_SO  \n",
       "0         756  \n",
       "1         792  \n",
       "2         988  \n",
       "3         864  \n",
       "4         699  "
      ]
     },
     "execution_count": 11,
     "metadata": {},
     "output_type": "execute_result"
    }
   ],
   "source": [
    "#Find average cost per SO per team year\n",
    "new1[\"cost_per_SO\"] = new1.salary/new1.pitcher_SO\n",
    "new1[[\"salary\", \"avg_bullpen_age\", \"avg_years_pro\", \"cost_per_SO\"]]\n",
    "cost = (new1[[\"avg_bullpen_age\",\"avg_years_pro\",\"cost_per_SO\",\"salary\", \"pitcher_SO\"]]\n",
    "        .sort_values(\"cost_per_SO\")\n",
    "        .reset_index()) # resetting the index allows us to use teamID later\n",
    "cost.head()"
   ]
  },
  {
   "cell_type": "markdown",
   "metadata": {},
   "source": [
    "Merge this dataset with *Teams* where the ***teamID*** and the ***yearID*** match using `.merge()`. We can pull in necessary columns from *Teams* including team *Wins* and *Losses*, their total opponent at bats, the total walks allowed and total runs allowed. Walk probability was easily caclualted using each teams total walks allowed and dividing it by their total opponent at bats. This was labeled ***walk_prob***. The dataset is now ready for analysis/modeling containing the necessary ***cost_per_SO***, ***avg_bullpen_age***, ***avg_years_pro*** of the bullpen, and each teams bullpen's ***walk_prob***."
   ]
  },
  {
   "cell_type": "code",
   "execution_count": 12,
   "metadata": {
    "scrolled": false
   },
   "outputs": [
    {
     "data": {
      "text/html": [
       "<div>\n",
       "<style scoped>\n",
       "    .dataframe tbody tr th:only-of-type {\n",
       "        vertical-align: middle;\n",
       "    }\n",
       "\n",
       "    .dataframe tbody tr th {\n",
       "        vertical-align: top;\n",
       "    }\n",
       "\n",
       "    .dataframe thead th {\n",
       "        text-align: right;\n",
       "    }\n",
       "</style>\n",
       "<table border=\"1\" class=\"dataframe\">\n",
       "  <thead>\n",
       "    <tr style=\"text-align: right;\">\n",
       "      <th></th>\n",
       "      <th>teamID</th>\n",
       "      <th>yearID</th>\n",
       "      <th>W</th>\n",
       "      <th>L</th>\n",
       "      <th>AB</th>\n",
       "      <th>BBA</th>\n",
       "      <th>RA</th>\n",
       "      <th>avg_bullpen_age</th>\n",
       "      <th>avg_years_pro</th>\n",
       "      <th>cost_per_SO</th>\n",
       "      <th>salary</th>\n",
       "      <th>pitcher_SO</th>\n",
       "      <th>walk_prob</th>\n",
       "    </tr>\n",
       "  </thead>\n",
       "  <tbody>\n",
       "    <tr>\n",
       "      <th>55</th>\n",
       "      <td>PIT</td>\n",
       "      <td>2008</td>\n",
       "      <td>67</td>\n",
       "      <td>95</td>\n",
       "      <td>5628</td>\n",
       "      <td>657</td>\n",
       "      <td>884</td>\n",
       "      <td>27.545455</td>\n",
       "      <td>3.818182</td>\n",
       "      <td>9758.597884</td>\n",
       "      <td>7377500.0</td>\n",
       "      <td>756</td>\n",
       "      <td>0.116738</td>\n",
       "    </tr>\n",
       "    <tr>\n",
       "      <th>69</th>\n",
       "      <td>OAK</td>\n",
       "      <td>2009</td>\n",
       "      <td>75</td>\n",
       "      <td>87</td>\n",
       "      <td>5584</td>\n",
       "      <td>523</td>\n",
       "      <td>761</td>\n",
       "      <td>27.500000</td>\n",
       "      <td>3.416667</td>\n",
       "      <td>10696.969697</td>\n",
       "      <td>8472000.0</td>\n",
       "      <td>792</td>\n",
       "      <td>0.093660</td>\n",
       "    </tr>\n",
       "    <tr>\n",
       "      <th>79</th>\n",
       "      <td>FLO</td>\n",
       "      <td>2009</td>\n",
       "      <td>87</td>\n",
       "      <td>75</td>\n",
       "      <td>5572</td>\n",
       "      <td>601</td>\n",
       "      <td>766</td>\n",
       "      <td>26.846154</td>\n",
       "      <td>3.538462</td>\n",
       "      <td>11426.113360</td>\n",
       "      <td>11289000.0</td>\n",
       "      <td>988</td>\n",
       "      <td>0.107861</td>\n",
       "    </tr>\n",
       "    <tr>\n",
       "      <th>49</th>\n",
       "      <td>FLO</td>\n",
       "      <td>2008</td>\n",
       "      <td>84</td>\n",
       "      <td>77</td>\n",
       "      <td>5499</td>\n",
       "      <td>586</td>\n",
       "      <td>767</td>\n",
       "      <td>26.750000</td>\n",
       "      <td>3.166667</td>\n",
       "      <td>11697.337963</td>\n",
       "      <td>10106500.0</td>\n",
       "      <td>864</td>\n",
       "      <td>0.106565</td>\n",
       "    </tr>\n",
       "    <tr>\n",
       "      <th>59</th>\n",
       "      <td>WAS</td>\n",
       "      <td>2008</td>\n",
       "      <td>59</td>\n",
       "      <td>102</td>\n",
       "      <td>5491</td>\n",
       "      <td>588</td>\n",
       "      <td>825</td>\n",
       "      <td>29.272727</td>\n",
       "      <td>5.000000</td>\n",
       "      <td>12733.905579</td>\n",
       "      <td>8901000.0</td>\n",
       "      <td>699</td>\n",
       "      <td>0.107084</td>\n",
       "    </tr>\n",
       "  </tbody>\n",
       "</table>\n",
       "</div>"
      ],
      "text/plain": [
       "   teamID  yearID   W    L    AB  BBA   RA  avg_bullpen_age  avg_years_pro  \\\n",
       "55    PIT    2008  67   95  5628  657  884        27.545455       3.818182   \n",
       "69    OAK    2009  75   87  5584  523  761        27.500000       3.416667   \n",
       "79    FLO    2009  87   75  5572  601  766        26.846154       3.538462   \n",
       "49    FLO    2008  84   77  5499  586  767        26.750000       3.166667   \n",
       "59    WAS    2008  59  102  5491  588  825        29.272727       5.000000   \n",
       "\n",
       "     cost_per_SO      salary  pitcher_SO  walk_prob  \n",
       "55   9758.597884   7377500.0         756   0.116738  \n",
       "69  10696.969697   8472000.0         792   0.093660  \n",
       "79  11426.113360  11289000.0         988   0.107861  \n",
       "49  11697.337963  10106500.0         864   0.106565  \n",
       "59  12733.905579   8901000.0         699   0.107084  "
      ]
     },
     "execution_count": 12,
     "metadata": {},
     "output_type": "execute_result"
    }
   ],
   "source": [
    "#Merge the found avg bullpen age, avg career age of bullpen, and cost per SO WITH \n",
    "#Teams and find walk probability of each team\n",
    "merged = teams[[\"teamID\",\"yearID\", \"W\", \"L\", \"AB\", \"BBA\", \"RA\"]].merge(right = cost, on = [\"teamID\", \"yearID\"], how = \"inner\")\n",
    "merged[\"walk_prob\"] = merged.BBA/merged.AB\n",
    "merged.sort_values(\"cost_per_SO\", ascending = True).head()"
   ]
  },
  {
   "cell_type": "markdown",
   "metadata": {},
   "source": [
    "## Models and Analysis\n",
    "\n",
    "The three areas of focus were money, age, and attributes of bullpen. These were analyzed and models were made to investigate which factors benefit **WINS** and **RUNS ALLOWED**.\n",
    "\n",
    "---\n",
    "\n",
    "### Money\n",
    "\n",
    "Perform linear regression to see if bullpen salary and how much a team spent per strikeout impacted - 1) team's win total or 2) runs allowed by the bullpen."
   ]
  },
  {
   "cell_type": "code",
   "execution_count": 13,
   "metadata": {},
   "outputs": [
    {
     "name": "stdout",
     "output_type": "stream",
     "text": [
      "0.13342293898950697\n"
     ]
    }
   ],
   "source": [
    "#Salary of bullpen impact on wins\n",
    "model_sal = LinearRegression()\n",
    "model_sal.fit(X = merged[[\"salary\"]], y = merged.W)\n",
    "print(model_sal.score(X = merged[[\"salary\"]], y = merged.W)) #scoring the model gives us an R^2 value"
   ]
  },
  {
   "cell_type": "code",
   "execution_count": 14,
   "metadata": {},
   "outputs": [
    {
     "name": "stdout",
     "output_type": "stream",
     "text": [
      "0.09898568278168329\n"
     ]
    }
   ],
   "source": [
    "#Salary of bullpen impact on runs allowed\n",
    "model_sal2 = LinearRegression()\n",
    "model_sal2.fit(X = merged[[\"salary\"]], y = merged.RA)\n",
    "print(model_sal2.score(X = merged[[\"salary\"]], y = merged.RA))"
   ]
  },
  {
   "cell_type": "code",
   "execution_count": 15,
   "metadata": {},
   "outputs": [
    {
     "name": "stdout",
     "output_type": "stream",
     "text": [
      "0.029033471980284387\n"
     ]
    }
   ],
   "source": [
    "#Cost per SO impact on wins\n",
    "model_cps = LinearRegression()\n",
    "model_cps.fit(X = merged[[\"cost_per_SO\"]], y = merged.W)\n",
    "print(model_cps.score(X = merged[[\"cost_per_SO\"]], y = merged.W))"
   ]
  },
  {
   "cell_type": "code",
   "execution_count": 16,
   "metadata": {},
   "outputs": [
    {
     "data": {
      "text/plain": [
       "<matplotlib.axes._subplots.AxesSubplot at 0x28d7a514b70>"
      ]
     },
     "execution_count": 16,
     "metadata": {},
     "output_type": "execute_result"
    }
   ],
   "source": [
    "merged.plot.scatter(x=\"cost_per_SO\", y = \"W\")"
   ]
  },
  {
   "cell_type": "code",
   "execution_count": 17,
   "metadata": {},
   "outputs": [
    {
     "name": "stdout",
     "output_type": "stream",
     "text": [
      "0.008523505436621837\n"
     ]
    }
   ],
   "source": [
    " #Cost per SO impact on runs allowed\n",
    "model_cps2 = LinearRegression()\n",
    "model_cps2.fit(X = merged[[\"cost_per_SO\"]], y = merged.RA)\n",
    "print(model_cps2.score(X = merged[[\"cost_per_SO\"]], y = merged.RA))"
   ]
  },
  {
   "cell_type": "code",
   "execution_count": 18,
   "metadata": {
    "scrolled": true
   },
   "outputs": [
    {
     "data": {
      "text/plain": [
       "<matplotlib.axes._subplots.AxesSubplot at 0x28d7a8472e8>"
      ]
     },
     "execution_count": 18,
     "metadata": {},
     "output_type": "execute_result"
    },
    {
     "data": {
      "image/png": "[encoded data removed]",
      "text/plain": [
       "<Figure size 432x288 with 1 Axes>"
      ]
     },
     "metadata": {
      "needs_background": "light"
     },
     "output_type": "display_data"
    }
   ],
   "source": [
    "merged.plot.scatter(x=\"cost_per_SO\", y = \"RA\")"
   ]
  },
  {
   "cell_type": "markdown",
   "metadata": {},
   "source": [
    "We can see the amount someone spends per strikeout is not a determinant of wins or runs allowed. We can derive that more money thrown at a bullpen does not necessarily impact team pitching success."
   ]
  },
  {
   "cell_type": "markdown",
   "metadata": {},
   "source": [
    "---\n",
    "\n",
    "## Age\n",
    "\n",
    "Next, determine if the average career age of the bullpen or the averge age of the bullpen impacted - 1) team wins or 2) runs allowed by the bullpen. "
   ]
  },
  {
   "cell_type": "code",
   "execution_count": 19,
   "metadata": {},
   "outputs": [
    {
     "name": "stdout",
     "output_type": "stream",
     "text": [
      "0.06599805807736836\n"
     ]
    }
   ],
   "source": [
    "#Average years pro impact on wins\n",
    "model_ayp = LinearRegression()\n",
    "model_ayp.fit(X = merged[[\"avg_years_pro\"]], y = merged.W)\n",
    "print(model_ayp.score(X = merged[[\"avg_years_pro\"]], y = merged.W))"
   ]
  },
  {
   "cell_type": "code",
   "execution_count": 20,
   "metadata": {},
   "outputs": [
    {
     "data": {
      "text/plain": [
       "<matplotlib.axes._subplots.AxesSubplot at 0x28d7aa1ec88>"
      ]
     },
     "execution_count": 20,
     "metadata": {},
     "output_type": "execute_result"
    },
    {
     "data": {
      "image/png": "[encoded data removed]",
      "text/plain": [
       "<Figure size 432x288 with 1 Axes>"
      ]
     },
     "metadata": {
      "needs_background": "light"
     },
     "output_type": "display_data"
    }
   ],
   "source": [
    "merged.plot.scatter(x=\"avg_years_pro\", y = \"W\")"
   ]
  },
  {
   "cell_type": "code",
   "execution_count": 21,
   "metadata": {},
   "outputs": [
    {
     "name": "stdout",
     "output_type": "stream",
     "text": [
      "0.005534946212427561\n"
     ]
    }
   ],
   "source": [
    "#Average years pro impact on runs allowed\n",
    "model_ayp2 = LinearRegression()\n",
    "model_ayp2.fit(X = merged[[\"avg_years_pro\"]], y = merged.RA)\n",
    "print(model_ayp2.score(X = merged[[\"avg_years_pro\"]], y = merged.RA))"
   ]
  },
  {
   "cell_type": "code",
   "execution_count": 22,
   "metadata": {
    "scrolled": true
   },
   "outputs": [
    {
     "name": "stdout",
     "output_type": "stream",
     "text": [
      "0.04731457438601239\n"
     ]
    }
   ],
   "source": [
    "#Average bullpen age impact on wins\n",
    "model_bpage = LinearRegression()\n",
    "model_bpage.fit(X = merged[[\"avg_bullpen_age\"]], y = merged.W)\n",
    "print(model_bpage.score(X = merged[[\"avg_bullpen_age\"]], y = merged.W))"
   ]
  },
  {
   "cell_type": "code",
   "execution_count": 23,
   "metadata": {
    "scrolled": true
   },
   "outputs": [
    {
     "data": {
      "text/plain": [
       "<matplotlib.axes._subplots.AxesSubplot at 0x28d7ab2de10>"
      ]
     },
     "execution_count": 23,
     "metadata": {},
     "output_type": "execute_result"
    },
    {
     "data": {
      "image/png": "[encoded data removed]",
      "text/plain": [
       "<Figure size 432x288 with 1 Axes>"
      ]
     },
     "metadata": {
      "needs_background": "light"
     },
     "output_type": "display_data"
    }
   ],
   "source": [
    "merged.plot.scatter(x=\"avg_bullpen_age\", y = \"W\")"
   ]
  },
  {
   "cell_type": "code",
   "execution_count": 24,
   "metadata": {},
   "outputs": [
    {
     "name": "stdout",
     "output_type": "stream",
     "text": [
      "0.00245236674404703\n"
     ]
    }
   ],
   "source": [
    "#Average bullpen age impact on runs allowed\n",
    "model_bpage2 = LinearRegression()\n",
    "model_bpage2.fit(X = merged[[\"avg_bullpen_age\"]], y = merged.RA)\n",
    "print(model_bpage2.score(X = merged[[\"avg_bullpen_age\"]], y = merged.RA))"
   ]
  },
  {
   "cell_type": "markdown",
   "metadata": {},
   "source": [
    "Age of the bullpen or how may years a pitcher has been in the league does not significantly effect wins or runs allowed. "
   ]
  },
  {
   "cell_type": "markdown",
   "metadata": {},
   "source": [
    "---\n",
    "\n",
    "## Bullpen Attributes\n",
    "\n",
    "Bullpen attributes can show if the skill level and execution of the bullpen would impact - 1) team wins or 2) runs allowed. This was accomplished by showing how total strikeouts and walk probability of the bullpen impacted ***Wins*** and ***Runs Allowed***:"
   ]
  },
  {
   "cell_type": "code",
   "execution_count": 25,
   "metadata": {
    "scrolled": true
   },
   "outputs": [
    {
     "name": "stdout",
     "output_type": "stream",
     "text": [
      "0.34819917908592624\n"
     ]
    }
   ],
   "source": [
    "#Strikeouts by bullpen impact on wins\n",
    "model_pso = LinearRegression()\n",
    "model_pso.fit(X = merged[[\"pitcher_SO\"]], y = merged.W)\n",
    "print(model_pso.score(X = merged[[\"pitcher_SO\"]], y = merged.W))"
   ]
  },
  {
   "cell_type": "code",
   "execution_count": 26,
   "metadata": {},
   "outputs": [
    {
     "name": "stdout",
     "output_type": "stream",
     "text": [
      "0.39291283003295885\n"
     ]
    }
   ],
   "source": [
    "#Strikeouts by bullpen impact on runs allowed\n",
    "model_pso2 = LinearRegression()\n",
    "model_pso2.fit(X = merged[[\"pitcher_SO\"]], y = merged.RA)\n",
    "print(model_pso2.score(X = merged[[\"pitcher_SO\"]], y = merged.RA))"
   ]
  },
  {
   "cell_type": "code",
   "execution_count": 27,
   "metadata": {},
   "outputs": [
    {
     "data": {
      "text/plain": [
       "<matplotlib.axes._subplots.AxesSubplot at 0x28d7abdd128>"
      ]
     },
     "execution_count": 27,
     "metadata": {},
     "output_type": "execute_result"
    },
    {
     "data": {
      "image/png": "[encoded data removed]",
      "text/plain": [
       "<Figure size 432x288 with 1 Axes>"
      ]
     },
     "metadata": {
      "needs_background": "light"
     },
     "output_type": "display_data"
    }
   ],
   "source": [
    "merged.plot.scatter(x = \"pitcher_SO\", y = \"RA\")"
   ]
  },
  {
   "cell_type": "code",
   "execution_count": 28,
   "metadata": {},
   "outputs": [
    {
     "name": "stdout",
     "output_type": "stream",
     "text": [
      "0.1838530697172749\n"
     ]
    }
   ],
   "source": [
    "#Walk probability impact on wins \n",
    "model_walk_prob = LinearRegression()\n",
    "model_walk_prob.fit(X = merged[[\"walk_prob\"]], y = merged.W)\n",
    "print(model_walk_prob.score(X = merged[[\"walk_prob\"]], y = merged.W))"
   ]
  },
  {
   "cell_type": "code",
   "execution_count": 29,
   "metadata": {},
   "outputs": [
    {
     "name": "stdout",
     "output_type": "stream",
     "text": [
      "0.30511370435240004\n"
     ]
    }
   ],
   "source": [
    "#Walk probability impact on runs allowed \n",
    "model_walk_prob2 = LinearRegression()\n",
    "model_walk_prob2.fit(X = merged[[\"walk_prob\"]], y = merged.RA)\n",
    "print(model_walk_prob2.score(X = merged[[\"walk_prob\"]], y = merged.RA))"
   ]
  },
  {
   "cell_type": "code",
   "execution_count": 30,
   "metadata": {
    "scrolled": true
   },
   "outputs": [
    {
     "data": {
      "text/plain": [
       "<matplotlib.axes._subplots.AxesSubplot at 0x28d7adba470>"
      ]
     },
     "execution_count": 30,
     "metadata": {},
     "output_type": "execute_result"
    },
    {
     "data": {
      "image/png": "[encoded data removed]",
      "text/plain": [
       "<Figure size 432x288 with 1 Axes>"
      ]
     },
     "metadata": {
      "needs_background": "light"
     },
     "output_type": "display_data"
    }
   ],
   "source": [
    "merged.plot.scatter(x=\"walk_prob\", y = \"RA\")"
   ]
  },
  {
   "cell_type": "markdown",
   "metadata": {},
   "source": [
    "Out of our three areas of focus, bullpen attributes impacted wins and runs allowed the most. This makes sense as the skill of a pitcher should more directly effect team pitching success. We would want to maximize our pitching bullpen's skill level looking at their attributes and weighing this more important than age or money we constructing a team's pitching bullpen."
   ]
  },
  {
   "cell_type": "markdown",
   "metadata": {},
   "source": [
    "---\n",
    "## Side note: Age Impacting Cost\n",
    "Look at how player age and number of years in the MLB impact how much a team spent per SO."
   ]
  },
  {
   "cell_type": "code",
   "execution_count": 31,
   "metadata": {},
   "outputs": [
    {
     "name": "stdout",
     "output_type": "stream",
     "text": [
      "0.2355652837005756\n"
     ]
    }
   ],
   "source": [
    "#Average Bullpen Age impact on cost per SO\n",
    "model_bp_age = LinearRegression()\n",
    "model_bp_age.fit(X = merged[[\"avg_bullpen_age\"]], y = merged.cost_per_SO)\n",
    "print(model_bp_age.score(X = merged[[\"avg_bullpen_age\"]], y = merged.cost_per_SO))"
   ]
  },
  {
   "cell_type": "code",
   "execution_count": 32,
   "metadata": {},
   "outputs": [
    {
     "name": "stdout",
     "output_type": "stream",
     "text": [
      "0.3021838339886884\n"
     ]
    }
   ],
   "source": [
    "#Average years pro impact on cost per SO\n",
    "model_yr_pro = LinearRegression()\n",
    "model_yr_pro.fit(X = merged[[\"avg_years_pro\"]], y = merged.cost_per_SO)\n",
    "print(model_yr_pro.score(X = merged[[\"avg_years_pro\"]], y = merged.cost_per_SO))"
   ]
  },
  {
   "cell_type": "code",
   "execution_count": 33,
   "metadata": {
    "scrolled": true
   },
   "outputs": [
    {
     "data": {
      "text/plain": [
       "<matplotlib.axes._subplots.AxesSubplot at 0x28d7af51160>"
      ]
     },
     "execution_count": 33,
     "metadata": {},
     "output_type": "execute_result"
    },
    {
     "data": {
      "image/png": "[encoded data removed]",
      "text/plain": [
       "<Figure size 432x288 with 1 Axes>"
      ]
     },
     "metadata": {
      "needs_background": "light"
     },
     "output_type": "display_data"
    }
   ],
   "source": [
    "merged.plot.scatter(x=\"avg_years_pro\", y = \"cost_per_SO\")"
   ]
  },
  {
   "cell_type": "markdown",
   "metadata": {},
   "source": [
    "The older the player and the longer he has been in the league shows a slight correlation to how much is spent on that player. This makes sense as most player contracts are structured to give a player more money as he reaches his \"prime years\" - which should be later on in his career. We would want to minimize the years a player has been in the league to save cost on our pitching bullpen."
   ]
  },
  {
   "cell_type": "markdown",
   "metadata": {},
   "source": [
    "---"
   ]
  },
  {
   "cell_type": "markdown",
   "metadata": {},
   "source": [
    "# Conclusion\n",
    "\n",
    "1. Does the amount a GM pays their bullpen or how much they spend per strikeout help their team win? \n",
    "   - **Salary** and **cost_per_SO** weren't strong deciders of **Wins** and **RA**.\n",
    "\n",
    "\n",
    "2. Does an older bullpen lead to more wins or less runs allowed?\n",
    "   - No correlation was found between the **avg_bullpen_age** or **avg_career_age** and how they impact **Wins** and **RA**.\n",
    "\n",
    "\n",
    "3. Does a bullpen that throws more strikeouts and throws less walks on average lead to more wins or less runs allowed?\n",
    "   - There was a noticable determinant between **strikeouts** thrown by the bullpen and the **walk_prob** of the bullpen and how they impact **Wins** and **RA**.\n",
    "   \n",
    "\n",
    "4. It was also found that an older bullpen (higher **avg_career_age** and higher **avg_bullpen_age**) could lead to more money a team spent per strikeout.\n",
    "\n",
    "---\n",
    "\n",
    "\n",
    "With these findings, we can conclude that the greater age of bullpen and more money spent on the bullpen did not lead a team to more wins and less runs allowed - metrics that drive \"success\" in the MLB. However, the total strikouts a bullpen pitched and the less walks they threw did impact the number of wins the team had and the number of runs the bullpen allowed.\n",
    "\n",
    "With this, we would want to find a young bullpen (minimizing cost spent per strikout) that threw the most strikouts and threw the least amount of walks on average.\n",
    "\n",
    "\n"
   ]
  }
 ],
 "metadata": {
  "kernelspec": {
   "display_name": "Python 3",
   "language": "python",
   "name": "python3"
  },
  "language_info": {
   "codemirror_mode": {
    "name": "ipython",
    "version": 3
   },
   "file_extension": ".py",
   "mimetype": "text/x-python",
   "name": "python",
   "nbconvert_exporter": "python",
   "pygments_lexer": "ipython3",
   "version": "3.7.3"
  }
 },
 "nbformat": 4,
 "nbformat_minor": 2
}
